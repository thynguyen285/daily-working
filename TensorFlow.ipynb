{
  "nbformat": 4,
  "nbformat_minor": 0,
  "metadata": {
    "colab": {
      "name": "TensorFlow.ipynb",
      "version": "0.3.2",
      "provenance": [],
      "include_colab_link": true
    },
    "kernelspec": {
      "name": "python3",
      "display_name": "Python 3"
    }
  },
  "cells": [
    {
      "cell_type": "markdown",
      "metadata": {
        "id": "view-in-github",
        "colab_type": "text"
      },
      "source": [
        "<a href=\"https://colab.research.google.com/github/thynguyen285/doing_math_with_python/blob/master/TensorFlow.ipynb\" target=\"_parent\"><img src=\"https://colab.research.google.com/assets/colab-badge.svg\" alt=\"Open In Colab\"/></a>"
      ]
    },
    {
      "cell_type": "markdown",
      "metadata": {
        "id": "JJbEXYISx3qb",
        "colab_type": "text"
      },
      "source": [
        "\n",
        "\n",
        "# TENSORFLOW\n",
        "\n"
      ]
    },
    {
      "cell_type": "markdown",
      "metadata": {
        "id": "d63R5gUix3ny",
        "colab_type": "text"
      },
      "source": [
        "# **TỔNG QUAN**"
      ]
    },
    {
      "cell_type": "markdown",
      "metadata": {
        "id": "3SKAO3T6Fqsy",
        "colab_type": "text"
      },
      "source": [
        "***Thư viện Tensorfow là thư viện mã nguồn mở dùng cho tính toán số học sử dụng đồ thị luồng dữ liệu.Có khả năng tương thích và mở rộng tốt. Được Google phát triển cho machine learning phục vụ cả nghiên cứu lẫn xây dựng các ứng dụng thực tế***"
      ]
    },
    {
      "cell_type": "code",
      "metadata": {
        "id": "tnDTiAsXCfGD",
        "colab_type": "code",
        "colab": {}
      },
      "source": [
        "import tensorflow as tf"
      ],
      "execution_count": 0,
      "outputs": []
    },
    {
      "cell_type": "markdown",
      "metadata": {
        "id": "oZr6ahR7G3Bn",
        "colab_type": "text"
      },
      "source": [
        "Tensorfow phân biệt rõ ràng hai khái niệm :\n",
        " \n",
        "1.  Xây dựng, định nghĩa đồ thị(Graph)\n",
        "\n",
        "2.  Sử dụng một Session để thực thi các tính toán trong đồ thị.\n",
        "\n",
        "Khi bắt đầu một vấn đề cần làm việc với Tensorflow cần xác định hai yếu tố này thật rõ ràng.\n"
      ]
    },
    {
      "cell_type": "markdown",
      "metadata": {
        "id": "fPal6k2yH1oX",
        "colab_type": "text"
      },
      "source": [
        "Dưới đây thực thi một đồ thi đơn giản. Hiểu đơn giản Tensorflow = Tensor + flow. Tensor là cạnh của đồ thị, là  dữ liệu truyền vào flow. Flow là đỉnh của đồ thị chứa các toán tử/biến/hằng số."
      ]
    },
    {
      "cell_type": "code",
      "metadata": {
        "id": "fkgJRUJ_CtIR",
        "colab_type": "code",
        "colab": {}
      },
      "source": [
        "import tensorflow as tf\n",
        "a = tf.add(3, 5) # truyền vào đỉnh a 2 tensor là 3 và 5 và đỉnh a chưa toán tử cộng\n",
        "# Hoặc\n",
        "import tensorflow as tf\n",
        "x = tf.constant(3) # khởi tạo hằng số 3 đại diện là biến x\n",
        "y = tf.constant(5) # khởi tạo hằng số 5 đại diện là biến y\n",
        "a = tf.add(x, y) # truyền biến x,y vào toán tử cộng đại diện bởi biến a"
      ],
      "execution_count": 0,
      "outputs": []
    },
    {
      "cell_type": "markdown",
      "metadata": {
        "id": "FESOtA5KK2jm",
        "colab_type": "text"
      },
      "source": [
        "Ta in biến a xem có bằng 8 hay không ? Với hy vọng rằng a  = x + y = 3 + 5 = 8."
      ]
    },
    {
      "cell_type": "code",
      "metadata": {
        "id": "7IbyJgWqDYRD",
        "colab_type": "code",
        "outputId": "f081d623-c040-473e-d6f3-c73bc71b46db",
        "colab": {
          "base_uri": "https://localhost:8080/",
          "height": 34
        }
      },
      "source": [
        "print(a)"
      ],
      "execution_count": 0,
      "outputs": [
        {
          "output_type": "stream",
          "text": [
            "Tensor(\"Add_1:0\", shape=(), dtype=int32)\n"
          ],
          "name": "stdout"
        }
      ]
    },
    {
      "cell_type": "markdown",
      "metadata": {
        "id": "TFB7bg1dLwe7",
        "colab_type": "text"
      },
      "source": [
        "Nhưng không, a không ra kết quả như ta kỳ vọng. Vì sao? Vì a chỉ CHỨA toán tử/hằng số/biến thôi. Nghĩa là a không tự thực hiện được mà cần có lệnh để a thực hiện chức năng này, ta gọi là **session**. \n",
        "\n",
        "**session** có nhiệm vụ thực thi các tính toán chứa trong Tensor và đưa ra kết quả ở output.Session cũng đồng thời cấp phát bộ nhớ để lưu giữ giá trị của các biến.\n",
        "\n",
        "Với ví dụ trên, ta thêm session và biến a, và xem kết quả."
      ]
    },
    {
      "cell_type": "code",
      "metadata": {
        "id": "3a8YEv0WF7YF",
        "colab_type": "code",
        "outputId": "246c8cf0-b971-44af-d97a-86ab8a54a932",
        "colab": {
          "base_uri": "https://localhost:8080/",
          "height": 34
        }
      },
      "source": [
        "import tensorflow as tf\n",
        "a = tf.add(3, 5)\n",
        "sess = tf.Session()\n",
        "print(sess.run(a))\n",
        "sess.close()"
      ],
      "execution_count": 0,
      "outputs": [
        {
          "output_type": "stream",
          "text": [
            "8\n"
          ],
          "name": "stdout"
        }
      ]
    },
    {
      "cell_type": "markdown",
      "metadata": {
        "id": "-QYSBqHMNQRP",
        "colab_type": "text"
      },
      "source": [
        "Khi chỉ cần đóng session sau khi tính toán, ta chỉ cần sửa lại code một tý.\n"
      ]
    },
    {
      "cell_type": "code",
      "metadata": {
        "id": "-AQTwyC0F-83",
        "colab_type": "code",
        "outputId": "1a3fd2e7-ecc5-4147-cde1-4b00a1954fb4",
        "colab": {
          "base_uri": "https://localhost:8080/",
          "height": 34
        }
      },
      "source": [
        "import tensorflow as tf\n",
        "a = tf.add(3, 5)\n",
        "with tf.Session() as sess:\n",
        "    print(sess.run(a))"
      ],
      "execution_count": 0,
      "outputs": [
        {
          "output_type": "stream",
          "text": [
            "8\n"
          ],
          "name": "stdout"
        }
      ]
    },
    {
      "cell_type": "markdown",
      "metadata": {
        "id": "le-FRC3uN86c",
        "colab_type": "text"
      },
      "source": [
        "Dưới đây trình bày ví dụ khi một đồ thị có nhiều cạnh và nhiều đỉnh, chứa nhiều tính toán khác nhau. Từ đó, chúng ta thấy được tầm quan trọng của việc định nghĩa graph trước khi thực hiện.\n",
        "\n",
        "Ví dụ 1: Với 2 hằng số khởi tạo ban đầu x,y, ta có 3 đỉnh của đồ thị nhận đầu vào x,y là op1 (phép cộng), op2(nhân) và op3( lấy op1^op2). Với mục đích cuối cùng muốn tính op3 ra chỉ cần truyền op3 vào session, session sẽ tự động tìm kiếm và tính toán trên tất cả các node cần để có được kết quả của op3"
      ]
    },
    {
      "cell_type": "code",
      "metadata": {
        "id": "wM47dGy1GGA9",
        "colab_type": "code",
        "colab": {}
      },
      "source": [
        "#Ví dụ 1\n",
        "x = 2\n",
        "y = 3\n",
        "op1 = tf.add(x, y)\n",
        "op2 = tf.multiply(x, y)\n",
        "op3 = tf.pow(op2, op1)\n",
        "with tf.Session() as sess:\n",
        "    op3 = sess.run(op3)"
      ],
      "execution_count": 0,
      "outputs": []
    },
    {
      "cell_type": "code",
      "metadata": {
        "id": "MPkAAGFmGK1U",
        "colab_type": "code",
        "outputId": "883a81dc-166c-4b93-a98c-c88b7a3e7b96",
        "colab": {
          "base_uri": "https://localhost:8080/",
          "height": 50
        }
      },
      "source": [
        "#Ví dụ 2\n",
        "x = 2\n",
        "y = 3\n",
        "add_op = tf.add(x, y)\n",
        "mul_op = tf.multiply(x, y)\n",
        "useless = tf.multiply(x, add_op)\n",
        "pow_op = tf.pow(add_op, mul_op)\n",
        "with tf.Session() as sess:\n",
        "    z, not_useless = sess.run([pow_op, useless])\n",
        "    print(z)\n",
        "    print(not_useless)"
      ],
      "execution_count": 0,
      "outputs": [
        {
          "output_type": "stream",
          "text": [
            "15625\n",
            "10\n"
          ],
          "name": "stdout"
        }
      ]
    },
    {
      "cell_type": "markdown",
      "metadata": {
        "id": "87Ei6yxgquUo",
        "colab_type": "text"
      },
      "source": [
        "# **Các khái niệm cơ bản trong Tensorflow**"
      ]
    },
    {
      "cell_type": "markdown",
      "metadata": {
        "id": "2_PXPX2eq9Km",
        "colab_type": "text"
      },
      "source": [
        "**1.Hằng số**\n",
        "\n"
      ]
    },
    {
      "cell_type": "markdown",
      "metadata": {
        "id": "DN43srxGrbNa",
        "colab_type": "text"
      },
      "source": [
        "Chúng ta sử dụng tf.constant để thể hiện một giá trị hằng trong tensorflow. Và đó cũng là cách để thêm một hằng vào đồ thị.\n",
        "\n",
        "Cú pháp đầy đủ của constant"
      ]
    },
    {
      "cell_type": "code",
      "metadata": {
        "id": "3LxI3Dlsq2-2",
        "colab_type": "code",
        "colab": {}
      },
      "source": [
        "a = tf.constant(\n",
        "    value,\n",
        "    dtype=None,\n",
        "    shape=None,\n",
        "    name='Const',\n",
        "    verify_shape=False\n",
        ")"
      ],
      "execution_count": 0,
      "outputs": []
    },
    {
      "cell_type": "code",
      "metadata": {
        "id": "RvEfAXPkriF3",
        "colab_type": "code",
        "outputId": "c64968b5-e0cd-4d13-a6a1-b3384b8a9e7f",
        "colab": {
          "base_uri": "https://localhost:8080/",
          "height": 84
        }
      },
      "source": [
        "#Ví dụ: \n",
        "import tensorflow as tf\n",
        "a = tf.constant([2, 2], name='a')\n",
        "b = tf.constant([[0, 1], [2, 3]], name='b')\n",
        "x = tf.multiply(a, b, name='mul')\n",
        "with tf.Session() as sess:\n",
        "    print(a)\n",
        "    print(b)\n",
        "    print(sess.run(x))"
      ],
      "execution_count": 0,
      "outputs": [
        {
          "output_type": "stream",
          "text": [
            "Tensor(\"a_3:0\", shape=(2,), dtype=int32)\n",
            "Tensor(\"b_3:0\", shape=(2, 2), dtype=int32)\n",
            "[[0 2]\n",
            " [4 6]]\n"
          ],
          "name": "stdout"
        }
      ]
    },
    {
      "cell_type": "code",
      "metadata": {
        "id": "y9iUknBWsS30",
        "colab_type": "code",
        "colab": {}
      },
      "source": [
        "#Với giá trị đặc biệt \n",
        "# tf.zeros(shape, dtype=tf.float32, name=None)\n",
        "#Tạo một tensor có kích thước là shape, và tất cả các phần tử đều có giá trị 0.\n",
        "input_tensor = (tf.zeros([2, 3], tf.int32))\n"
      ],
      "execution_count": 0,
      "outputs": []
    },
    {
      "cell_type": "code",
      "metadata": {
        "id": "bNAR28z7t0Sy",
        "colab_type": "code",
        "outputId": "97828a10-b5d3-4170-faf5-38d581794c07",
        "colab": {
          "base_uri": "https://localhost:8080/",
          "height": 34
        }
      },
      "source": [
        "# Tạo một tensor có cấu trúc và kiểu dữ liệu giống một tensor khác\n",
        "tf.zeros_like(b)"
      ],
      "execution_count": 0,
      "outputs": [
        {
          "output_type": "execute_result",
          "data": {
            "text/plain": [
              "<tf.Tensor 'zeros_like_2:0' shape=(2, 2) dtype=int32>"
            ]
          },
          "metadata": {
            "tags": []
          },
          "execution_count": 136
        }
      ]
    },
    {
      "cell_type": "markdown",
      "metadata": {
        "id": "XHni8zWouINQ",
        "colab_type": "text"
      },
      "source": [
        "**2.Biến số**"
      ]
    },
    {
      "cell_type": "markdown",
      "metadata": {
        "id": "Hw9yofupuLge",
        "colab_type": "text"
      },
      "source": [
        "Có hằng số thì sẽ có biến số, mà biến số thì phải khởi tạo, nghĩa là định nghĩa biến số, và cũng cần lệnh session để biến hoạt động."
      ]
    },
    {
      "cell_type": "code",
      "metadata": {
        "id": "ZfopmCYVun9b",
        "colab_type": "code",
        "colab": {}
      },
      "source": [
        "#Cách 1\n",
        "s = tf.Variable(2, name=\"scalar\") \n",
        "m = tf.Variable([[0, 1], [2, 3]], name=\"matrix\") \n",
        "W = tf.Variable(tf.zeros([784,10]))\n",
        " \n",
        "# Cách 2\n",
        "s = tf.get_variable(\"scalar\", initializer=tf.constant(2)) \n",
        "m = tf.get_variable(\"matrix\", initializer=tf.constant([[0, 1], [2, 3]]))\n",
        "W = tf.get_variable(\"big_matrix\", shape=(784, 10), initializer=tf.zeros_initializer())"
      ],
      "execution_count": 0,
      "outputs": []
    },
    {
      "cell_type": "markdown",
      "metadata": {
        "id": "IXN_gzYovClr",
        "colab_type": "text"
      },
      "source": [
        "Nhìn chung cả hai cách đều phải truyền giá trị khởi tạo ban đầu.\n",
        "\n",
        "Dưới đây là một số cách truyền biến vào session."
      ]
    },
    {
      "cell_type": "code",
      "metadata": {
        "id": "Ik4HR8E_vS0T",
        "colab_type": "code",
        "colab": {}
      },
      "source": [
        "import tensorflow as tf\n",
        "# Cách đơn giản nhất là khởi tạo tất cả các biến trong 1 lần:\n",
        "with tf.Session() as sess:\n",
        "    sess.run(tf.global_variables_initializer())\n",
        "    \n",
        "# Khởi tạo một số biến nhất định:\n",
        "with tf.Session() as sess:\n",
        "    sess.run(tf.variables_initializer([a, b]))\n",
        "    \n",
        "# Khởi tạo 1 biến:\n",
        "W = tf.Variable(tf.zeros([784,10]))\n",
        "with tf.Session() as sess:\n",
        "    sess.run(W.initializer)"
      ],
      "execution_count": 0,
      "outputs": []
    },
    {
      "cell_type": "markdown",
      "metadata": {
        "id": "j-7EevQDwG8Z",
        "colab_type": "text"
      },
      "source": [
        "**3.Placeholder**"
      ]
    },
    {
      "cell_type": "markdown",
      "metadata": {
        "id": "0tvIwYrhwT0-",
        "colab_type": "text"
      },
      "source": [
        "Trong nhiều trường hợp ta cần tính toán nhưng ta chưa chắc chắn về giá trị khởi tạo, thì Placeholder chính là cách giải quyết nhanh lúc đó.\n",
        "\n",
        "Ví dụ : Chúng ta cần định nghĩa một hàm f(x,y) = 2 * x + y mà không biết trước giá trị của x và y. Trong trường hợp này, x và y nên là Placeholder. Hay ví dụ sử dụng Placeholder thực tế nhất là input và nhãn của dữ liệu trong các mô hình học giám sát.\n",
        "\n",
        "Việc sử dụng Placeholder giúp cho chúng ta có thể truyền dữ liệu khác nhau vào đồ thị khi training. Điều này giúp chúng ta có thể sử dụng linh động với nhiều mẫu dữ liệu khác nhau thay vì truyền cứng nhắc."
      ]
    },
    {
      "cell_type": "code",
      "metadata": {
        "id": "rTP4DsyRwNOf",
        "colab_type": "code",
        "outputId": "d51e8ef2-7ac9-4265-fdaa-d61714c74ce2",
        "colab": {
          "base_uri": "https://localhost:8080/",
          "height": 34
        }
      },
      "source": [
        "# syntax for placeholder : tf.placeholder(dtype, shape=None, name=None)\n",
        "\n",
        "a = tf.placeholder(tf.float32, shape=[3])\n",
        " \n",
        "b = tf.constant([5, 5, 5], tf.float32)\n",
        "\n",
        "c = a + b \n",
        " \n",
        "with tf.Session() as sess:\n",
        "    print(sess.run(c, feed_dict={a: [1, 2, 3]}))  "
      ],
      "execution_count": 0,
      "outputs": [
        {
          "output_type": "stream",
          "text": [
            "[6. 7. 8.]\n"
          ],
          "name": "stdout"
        }
      ]
    },
    {
      "cell_type": "markdown",
      "metadata": {
        "id": "eG6WYX7lzZLh",
        "colab_type": "text"
      },
      "source": [
        "Còn một khái niệm là Lazy loading trong tensorflow là  là khái niệm mô tả việc chỉ tạo đối tượng khi cần và tạo nó ngay trong session thay vì phải định nghĩa và thêm vào graph trước khi chạy. Tuy nhiên vì tạo trong session nên cứ mỗi lần thực hiện toán tử lại gọi lại làm và gọi lại định nghĩa, làm tốn tài nguyên, nên không khuyến khích dùng lắm."
      ]
    },
    {
      "cell_type": "markdown",
      "metadata": {
        "id": "vpya0Djs2tNI",
        "colab_type": "text"
      },
      "source": [
        "# *DEMO LINEAR REGRESSION*"
      ]
    },
    {
      "cell_type": "code",
      "metadata": {
        "id": "xDQ8koKLNlNN",
        "colab_type": "code",
        "outputId": "d118b4d3-74e2-4203-e37d-c312d95168a5",
        "colab": {
          "base_uri": "https://localhost:8080/",
          "height": 34
        }
      },
      "source": [
        "import tensorflow as tf\n",
        " # Model parameters\n",
        "W = tf.Variable([.3], dtype=tf.float32)\n",
        "b = tf.Variable([-.3], dtype=tf.float32)\n",
        "# Model input and output\n",
        "x = tf.placeholder(tf.float32)\n",
        "linear_model = W * x + b\n",
        "y = tf.placeholder(tf.float32)\n",
        "# loss\n",
        "loss = tf.reduce_sum(tf.square(linear_model - y)) # sum of the squares\n",
        "# optimizer\n",
        "optimizer = tf.train.GradientDescentOptimizer(0.01)\n",
        "train = optimizer.minimize(loss)\n",
        " # training data\n",
        "x_train = [1,2,3,4]\n",
        "y_train = [0,-1,-2,-3]\n",
        "# training loop\n",
        "init = tf.global_variables_initializer()\n",
        "sess = tf.Session()\n",
        "sess.run(init) # reset values to wrong\n",
        "for i in range(1000):\n",
        "  sess.run(train, {x:x_train, y:y_train})\n",
        "# evaluate training accuracy\n",
        "curr_W, curr_b, curr_loss = sess.run([W, b, loss], {x:x_train, y:y_train})\n",
        "print(\"W: %s b: %s loss: %s\"%(curr_W, curr_b, curr_loss))\n"
      ],
      "execution_count": 0,
      "outputs": [
        {
          "output_type": "stream",
          "text": [
            "W: [-0.9999969] b: [0.9999908] loss: 5.6999738e-11\n"
          ],
          "name": "stdout"
        }
      ]
    },
    {
      "cell_type": "markdown",
      "metadata": {
        "id": "2uAQPucYazbT",
        "colab_type": "text"
      },
      "source": [
        "Topic\n",
        "\n",
        "\n",
        "1.   NLP translation, chatbot\n",
        "2.   Cv: OB detect, ob segment\n",
        "3.  Forecast: \n",
        "\n",
        "\n",
        "Kaggle: competitions, platform, \n",
        "davis : cộng đồng xử lý ảnh chủ yếu CV\n",
        "M5: Forecast\n"
      ]
    },
    {
      "cell_type": "markdown",
      "metadata": {
        "id": "e-bb9JlvuPQk",
        "colab_type": "text"
      },
      "source": [
        "NLP R-NN thì cấu trúc ra vào, demo thử 1 ví dụ"
      ]
    }
  ]
}