{
  "nbformat": 4,
  "nbformat_minor": 0,
  "metadata": {
    "colab": {
      "name": "HOẠT ĐỘNG CỦA BIẾN.ipynb",
      "version": "0.3.2",
      "provenance": [],
      "include_colab_link": true
    },
    "kernelspec": {
      "name": "python3",
      "display_name": "Python 3"
    }
  },
  "cells": [
    {
      "cell_type": "markdown",
      "metadata": {
        "id": "view-in-github",
        "colab_type": "text"
      },
      "source": [
        "<a href=\"https://colab.research.google.com/github/thynguyen285/doing_math_with_python/blob/master/HO%E1%BA%A0T_%C4%90%E1%BB%98NG_C%E1%BB%A6A_BI%E1%BA%BEN.ipynb\" target=\"_parent\"><img src=\"https://colab.research.google.com/assets/colab-badge.svg\" alt=\"Open In Colab\"/></a>"
      ]
    },
    {
      "cell_type": "markdown",
      "metadata": {
        "id": "u69ZkAvkEc-O",
        "colab_type": "text"
      },
      "source": [
        "Trong phần này, mình muốn giới thiệu tổng quan về Python với các khía cạnh về kiểu dữ liệu, biến và khai báo biến,  thế nào là code \"đẹp\" và cách đọc một số loại lỗi thường gặp khi thao tác. \n",
        "\n",
        "Ở cuối bài, cùng chơi \"TRÁI BÓNG MA THUẬT\" với mình nhé, phần source code trò chơi mình có để ở cuối bài, cùng làm thử và rủ bạn bè cùng tham gia nha."
      ]
    },
    {
      "cell_type": "markdown",
      "metadata": {
        "id": "ROM27svbPSgV",
        "colab_type": "text"
      },
      "source": [
        "# I. CÁC KIỂU DỮ LIỆU THƯỜNG DÙNG. \n",
        "\n",
        "***1. Số nguyên***\n",
        "Chữ số hoặc số đếm\n",
        "\n",
        " ví dụ 1, 2, 3, 0, -1, -2,....\n",
        " \n",
        "*   Số người đang ngồi trong phòng\n",
        "*   Ngày trong tháng\n",
        "\n",
        "***2. Kiểu số thực***  Số có chứa dấu phẩy ' , ' \n",
        "ví dụ : 1.5, .5, -3.21, 1.0, 0.0\n",
        "\n",
        "*   Điểm trung bình của lớp\n",
        "*   Giá của món hàng\n",
        "*   Số thập phân, ví dụ số pi\n",
        "\n",
        "***3. Kiểu chuỗi***\n",
        "\n",
        "Ví dụ Joe', 'Schmoe', \"Joe\", \"Schmoe\"\n",
        "\n",
        "*   Tên\n",
        "*   Tựa sách\n",
        "*   Câu văn\n",
        "\n",
        "***3. Kiểu đúng-sai***\n",
        "Trả về 1/yes khi biểu thức được gọi thực hiện đúng logic, trả về 0/no khi biểu thức sai.\n",
        "\n",
        "\n",
        "*   Trạng thái bóng đèn : 1 là mở, 0 là tắt\n",
        "*   Môt người còn sống hay tử vong: 1 là sống, 0 là tử vong.\n",
        "\n",
        "\n",
        "\n",
        "\n",
        "\n",
        "\n",
        "\n",
        "\n",
        "\n",
        "\n",
        "\n",
        "\n",
        "\n",
        "\n",
        "\n",
        " "
      ]
    },
    {
      "cell_type": "markdown",
      "metadata": {
        "id": "15JPFQ04UirY",
        "colab_type": "text"
      },
      "source": [
        "# II. BIẾN\n",
        "\n",
        "Trong lập trình biến được sử dụng để lưu trữ dữ liệu trong chương trình. Dữ liệu được lưu trữ trong một biến bất kỳ có thể thay đổi trong khi chạy chương trình.\n",
        "\n",
        "Trong một số ngôn ngữ khác biến sẽ cần được khai báo. Việc khai báo biến bao gồm đặt tên cho biến và xác định kiểu dữ liệu của biến đó.Với Python chúng ta sẽ bỏ qua bước khai báo thay vào đó sẽ thực hiện việc khởi tạo biến như bạn thấy ở ví dụ trước đó. Khởi tạo biến sẽ bao gồm đồng thời việc khai báo biến và gán giá trị cho biến.\n"
      ]
    },
    {
      "cell_type": "code",
      "metadata": {
        "id": "Y4I6_QZuJCXo",
        "colab_type": "code",
        "colab": {}
      },
      "source": [
        "numberOfMales = 5\n",
        "numberOfFemales = 6\n",
        "numberOfPeople = numberOfMales + numberOfFemales"
      ],
      "execution_count": 0,
      "outputs": []
    },
    {
      "cell_type": "markdown",
      "metadata": {
        "id": "Fe0OQmlbl_vr",
        "colab_type": "text"
      },
      "source": [
        "Trong ví dụ trên biến numberOfMales có giá trị bằng 5, hay ta có thể nói ta gán cho biến numberOfMales giá trị là 5, tương tự cho biến numberOfFemales.\n",
        "\n",
        "Bên cạnh đó ta có biến numberOfPeople có giá trị bằng tổng giá trị của biến numberOfMales và biến numberOfFemales.\n"
      ]
    },
    {
      "cell_type": "code",
      "metadata": {
        "id": "QYYcZirVJdf-",
        "colab_type": "code",
        "outputId": "4e825404-06ff-4d03-ccaf-aa34580f561a",
        "colab": {
          "base_uri": "https://localhost:8080/",
          "height": 68
        }
      },
      "source": [
        "eggsInOmlette = 3\n",
        "print(eggsInOmlette)\n",
        "print('eggsInOmlette is:', eggsInOmlette)\n",
        "knowsHowToCook = True\n",
        "print('knowsHowToCook is:', knowsHowToCook)"
      ],
      "execution_count": 1,
      "outputs": [
        {
          "output_type": "stream",
          "text": [
            "3\n",
            "eggsInOmlette is: 3\n",
            "knowsHowToCook is: True\n"
          ],
          "name": "stdout"
        }
      ]
    },
    {
      "cell_type": "markdown",
      "metadata": {
        "id": "UWoDzj4Wm8V0",
        "colab_type": "text"
      },
      "source": [
        "Để in giá trị biến ta dùng lệnh *print( )*  và truyền biến  cần in vào, chúng ta có thể thêm một chuỗi trong hàm print để làm kết quả in trả về đẹp mắt hơn. \n",
        "\n",
        "Với Python, việc khai báo các biến kiểu numeric rất dễ dàng, từ đó việc  thực hiện các phép tính toán trong Python cũng trở nên dễ dàng hơn.\n",
        "\n",
        "Ví dụ dưới đây thực hiện một số phép toán đơn giản cho trực quan.\n"
      ]
    },
    {
      "cell_type": "code",
      "metadata": {
        "id": "iN510dD4Jpuh",
        "colab_type": "code",
        "outputId": "d38e96ad-b9d4-4a96-837a-bad81201e004",
        "colab": {
          "base_uri": "https://localhost:8080/",
          "height": 102
        }
      },
      "source": [
        "x = 9 # Khai báo biến x với giá trị là 9\n",
        "y = 6 # Khai báo biến y với giá trị là 6\n",
        "print(x + y) # Lấy giá trị của x cộng giá trị của y rồi in ra kết quả\n",
        "print(x - y) # Lấy giá trị của x trừ giá trị của y rồi in ra kết quả\n",
        "print(x * y) # Lấy giá trị của x nhân với giá trị của y rồi in ra kết quả\n",
        "print(x / y) # Lấy giá trị của x chia với giá trị của y rồi in ra kết quả\n",
        "print(x // y) # Lấy giá trị của x chia với giá trị của y chỉ lấy phần nguyên rồi in ra kết quả"
      ],
      "execution_count": 0,
      "outputs": [
        {
          "output_type": "stream",
          "text": [
            "15\n",
            "3\n",
            "54\n",
            "1.5\n",
            "1\n"
          ],
          "name": "stdout"
        }
      ]
    },
    {
      "cell_type": "markdown",
      "metadata": {
        "id": "JBW2AWEapaud",
        "colab_type": "text"
      },
      "source": [
        "Ví dụ dưới đây kết hợp toán tử gán giá trị cho biến, chia, và lệnh in kết quả. Cùng xem nhé !"
      ]
    },
    {
      "cell_type": "code",
      "metadata": {
        "id": "mMwBDoLZKAIR",
        "colab_type": "code",
        "outputId": "2b7c73e8-cb2c-4a79-a95d-de84021779af",
        "colab": {
          "base_uri": "https://localhost:8080/",
          "height": 34
        }
      },
      "source": [
        "# Tìm tuổi khi biết số tháng sinh.\n",
        "ageInMonths = 29 # Gán giá trị 29 vào biến ageInMonths\n",
        "years = ageInMonths // 12 # Lấy giá trị biến ageInMonths chia cho 12 lấy phần nguyên\n",
        "months = ageInMonths % 12 # Lấy giá trị biến ageInMonths chia cho 12 lấy phần dư\n",
        "print(\"My puppy's age is\", years, \"years and\", months, \"months.\") # In kết quả theo thứ tự năm và tháng"
      ],
      "execution_count": 2,
      "outputs": [
        {
          "output_type": "stream",
          "text": [
            "My puppy's age is 2 years and 5 months.\n"
          ],
          "name": "stdout"
        }
      ]
    },
    {
      "cell_type": "code",
      "metadata": {
        "id": "UfwJjkmPKPug",
        "colab_type": "code",
        "outputId": "7ac8ab11-2df2-4f53-8c30-c0f32690d484",
        "colab": {
          "base_uri": "https://localhost:8080/",
          "height": 34
        }
      },
      "source": [
        "# Tình lương khi biết tổng số giờ làm việc là 45 giờ, trong đó có 40 giờ được hưởng lương theo quy định là 10 đồng một giờ, còn những giờ làm thêm nhân hệ số 1.5\n",
        "rate = 10.00 # Gán biến giờ lương tên rate bằng 10 đồng\n",
        "totalHours = 45 # Gán biến totalHours thể hiện tổng giờ làm bằng 45\n",
        "regularHours = 40 # Gán biến regularHours bằng 40 là số giờ làm tiêu chuẩn\n",
        "overTimeHours = totalHours - regularHours # Tính tổng số giờ làm thêm bằng tổng giờ công trừ cho giờ công tiêu chuẩn\n",
        "pay = (rate * regularHours) + ((rate * 1.5) * overTimeHours) # Tính tổng tiền lương \n",
        "print('For working', totalHours, 'hours, I should be paid', pay) # In kết quả"
      ],
      "execution_count": 4,
      "outputs": [
        {
          "output_type": "stream",
          "text": [
            "For working 45 hours, I should be paid 475.0\n"
          ],
          "name": "stdout"
        }
      ]
    },
    {
      "cell_type": "markdown",
      "metadata": {
        "id": "4BobV5-yUvRt",
        "colab_type": "text"
      },
      "source": [
        "# III. LÀM SAO ĐỂ CODE \"ĐẸP\""
      ]
    },
    {
      "cell_type": "markdown",
      "metadata": {
        "id": "dsk8F7W1082n",
        "colab_type": "text"
      },
      "source": [
        "Với Python, lập trình viên có thể sử dụng nhiều cách code khác nhau để giải quyết vấn đề, nhưng cách thức viết code rõ ràng và đơn giản nhất luôn được ưu tiên.\n",
        "\n",
        "Dưới đây nếu ra một vài trường hợp khi code không rõ ràng gây kết quả sai hoặc khi người khác đọc code cũng rất khó khăn."
      ]
    },
    {
      "cell_type": "markdown",
      "metadata": {
        "id": "DqeVOV0j279W",
        "colab_type": "text"
      },
      "source": [
        "**Đóng/mở ngoặc công thức tính rõ ràng cẩn thận.**"
      ]
    },
    {
      "cell_type": "code",
      "metadata": {
        "id": "SvQdwnQ2KaDT",
        "colab_type": "code",
        "outputId": "9b94dedf-d125-47a8-a1af-e145f6e955ee",
        "colab": {
          "base_uri": "https://localhost:8080/",
          "height": 51
        }
      },
      "source": [
        "side1 = 3\n",
        "side2 = 4\n",
        "hypot1 = ((side1 ** 2) + (side2 ** 2)) ** 0.5\n",
        "hypot2 = side1 ** 2 + side2 ** 2** 0.5\n",
        "print('Side 1 is', side1, ' Side 2 is', side2, ' Hypotenuse is:', hypot1)\n",
        "print('Side 1 is', side1, ' Side 2 is', side2, ' Hypotenuse is:', hypot2)"
      ],
      "execution_count": 5,
      "outputs": [
        {
          "output_type": "stream",
          "text": [
            "Side 1 is 3  Side 2 is 4  Hypotenuse is: 5.0\n",
            "Side 1 is 3  Side 2 is 4  Hypotenuse is: 16.102993301316015\n"
          ],
          "name": "stdout"
        }
      ]
    },
    {
      "cell_type": "markdown",
      "metadata": {
        "id": "NQf6VQHq2IsX",
        "colab_type": "text"
      },
      "source": [
        " Với công thưcs đơn giản  $((x^2) + (y^2))^(0.5)$ nhưng chỉ cần bỏ ngoặc sai thì kết quả đi theo một hướng khác rồi."
      ]
    },
    {
      "cell_type": "code",
      "metadata": {
        "id": "V_OPQTx7Kngl",
        "colab_type": "code",
        "outputId": "c2e43651-b451-40f1-d793-c85d119c30a5",
        "colab": {
          "base_uri": "https://localhost:8080/",
          "height": 34
        }
      },
      "source": [
        "numberOfOneDollarBills = 3\n",
        "numberOfFiveDollarBills = 2\n",
        "total = numberOfOneDollarBills + (numberOfFiveDollarBills * 5)\n",
        "print('Total amount is', total)"
      ],
      "execution_count": 0,
      "outputs": [
        {
          "output_type": "stream",
          "text": [
            "Total amount is 13\n"
          ],
          "name": "stdout"
        }
      ]
    },
    {
      "cell_type": "markdown",
      "metadata": {
        "id": "yVHmfHxI2xr8",
        "colab_type": "text"
      },
      "source": [
        "**Dùng khoảng trắng và xuống dòng hợp lý**\n",
        "\n",
        "Khoảng trống dùng để ngắn cách các ký hiệu và giá trị với nhau, ký hiệu \"\\\" thể hiên xuống dòng khi đoạn code quá dài."
      ]
    },
    {
      "cell_type": "code",
      "metadata": {
        "id": "6f3NrTr0KuJO",
        "colab_type": "code",
        "outputId": "e9694c06-4faa-4df6-8d16-08e5ef618fa2",
        "colab": {
          "base_uri": "https://localhost:8080/",
          "height": 34
        }
      },
      "source": [
        "nTwentyDollarBills = 5\n",
        "nTenDollarBills = 4\n",
        "nFiveDollarBills = 8\n",
        "nOneDollarBills = 2\n",
        "total = (nTwentyDollarBills * 20) + (nTenDollarBills * 10) + \\\n",
        "               (nFiveDollarBills * 5) + nOneDollarBills\n",
        "print('Total amount is', total)"
      ],
      "execution_count": 0,
      "outputs": [
        {
          "output_type": "stream",
          "text": [
            "Total amount is 182\n"
          ],
          "name": "stdout"
        }
      ]
    },
    {
      "cell_type": "markdown",
      "metadata": {
        "id": "60UG0AR53hxX",
        "colab_type": "text"
      },
      "source": [
        "Tuy nhiên ví dụ dưới đây việc xử dụng khoảng trắng và xuống dòng càng làm cho đoạn code trở nên khó hiểu hơn."
      ]
    },
    {
      "cell_type": "code",
      "metadata": {
        "id": "X6hRmF_bK1hU",
        "colab_type": "code",
        "colab": {}
      },
      "source": [
        "var1 = 3 \n",
        "var2 = 4\n",
        "myVariable = var1 + var2  # Khoảng cách giữa ký hiệu và tên hợp lý\n",
        "myVariable=var1+var2         # Không hề có khoảng cách\n",
        "myVariable        =      \\   # Đặt dấu xuống hàng ở đây không hợp lý\n",
        "         var1     +     var2  # Đoạn này quá nhiều khoảng cách"
      ],
      "execution_count": 0,
      "outputs": []
    },
    {
      "cell_type": "markdown",
      "metadata": {
        "id": "D_iJRlov4Su4",
        "colab_type": "text"
      },
      "source": [
        "**Đặt tên biến** \n",
        "\n",
        "Tên biến có mục đích đại diện cho giá trị biến đó và còn giúp thể hiện ý nghĩa của biến, khi nhìn vào tên *numberOfMales*, bạn dễ dàng nhận thấy biến đại diện cho số lượng nam giới. \n",
        "\n",
        "Có nhiều cách đặt tên khác nhau, ngoài cách trên bạn có thể đặt tên theo cách number_of_males, đây là hai cách được xử dụng khá phổ biến. Tuy nhiên bạn không nhất thiết phải theo hai cách trên, nhưng bạn cần phải chắc chắn đồng nghiệp hoặc bạn bè của bạn có thể hiểu tất cả tên biến một cách dễ dàng nhất."
      ]
    },
    {
      "cell_type": "markdown",
      "metadata": {
        "id": "OLp8QfcJ6lwa",
        "colab_type": "text"
      },
      "source": [
        "**Xử dụng chú thích**\n",
        " \n",
        "Chú thích  trong code luôn là đề tài muôn thuở mới lập trình viên, bản thân mình từng trải qua việc chính mình đọc lại code của mình sau 2 tháng nhưng không hiểu và phải mất thời gian để nhớ lại.\n",
        "\n",
        "Hơn hết chúng ta đều cảm thấy thích khi đọc những đoạn code mẫu có chú thích giải thích ý nghĩa đúng không nào ? \n",
        "\n",
        "Vậy việc chúng ta chú thích rõ ràng không chỉ giúp cho người khác đọc cảm thấy dễ hiểu mà còn giúp bản thân mình dễ xử lý khi gặp vấn đề nữa nhé."
      ]
    },
    {
      "cell_type": "markdown",
      "metadata": {
        "id": "mZDs3pCfVB_r",
        "colab_type": "text"
      },
      "source": [
        "# IV. MỘT SỐ LỖI THƯỜNG GẶP"
      ]
    },
    {
      "cell_type": "markdown",
      "metadata": {
        "id": "hEa5_2Fd8RQb",
        "colab_type": "text"
      },
      "source": [
        "Dưới đây trình bày một số kiểu lỗi thường gặp khi thao tác với Python, cùng điểm qua để biết cách đọc lỗi."
      ]
    },
    {
      "cell_type": "markdown",
      "metadata": {
        "id": "6YLn7ovm-QyN",
        "colab_type": "text"
      },
      "source": [
        "Khi chạy đoạn code dưới đây sẽ thấy dòng *'NameError: name 'learningpython' is not defined'*, nghĩa là lỗi ở phần đặt tên, chương trình báo tên biến learningpython chưa được xác định trước đó. \n",
        "\n",
        "Thật vậy, tên biến được khai báo ban đầu là learningPython trong khi truyền vào hàm thì lại truyền learningpython.\n"
      ]
    },
    {
      "cell_type": "code",
      "metadata": {
        "id": "6Iw7uzEOLXkb",
        "colab_type": "code",
        "outputId": "7f28dff5-9d78-4cb2-f4bd-86b1944e2088",
        "colab": {
          "base_uri": "https://localhost:8080/",
          "height": 197
        }
      },
      "source": [
        "learningPython = True\n",
        "print(learningpython)\n",
        "print(learningpython)"
      ],
      "execution_count": 6,
      "outputs": [
        {
          "output_type": "error",
          "ename": "NameError",
          "evalue": "ignored",
          "traceback": [
            "\u001b[0;31m---------------------------------------------------------------------------\u001b[0m",
            "\u001b[0;31mNameError\u001b[0m                                 Traceback (most recent call last)",
            "\u001b[0;32m<ipython-input-6-c2c3b5154518>\u001b[0m in \u001b[0;36m<module>\u001b[0;34m()\u001b[0m\n\u001b[1;32m      1\u001b[0m \u001b[0mlearningPython\u001b[0m \u001b[0;34m=\u001b[0m \u001b[0;32mTrue\u001b[0m\u001b[0;34m\u001b[0m\u001b[0;34m\u001b[0m\u001b[0m\n\u001b[0;32m----> 2\u001b[0;31m \u001b[0mprint\u001b[0m\u001b[0;34m(\u001b[0m\u001b[0mlearningpython\u001b[0m\u001b[0;34m)\u001b[0m\u001b[0;34m\u001b[0m\u001b[0;34m\u001b[0m\u001b[0m\n\u001b[0m\u001b[1;32m      3\u001b[0m \u001b[0mprint\u001b[0m\u001b[0;34m(\u001b[0m\u001b[0mlearningpython\u001b[0m\u001b[0;34m)\u001b[0m\u001b[0;34m\u001b[0m\u001b[0;34m\u001b[0m\u001b[0m\n",
            "\u001b[0;31mNameError\u001b[0m: name 'learningpython' is not defined"
          ]
        }
      ]
    },
    {
      "cell_type": "markdown",
      "metadata": {
        "id": "gFbUgV4_-PF3",
        "colab_type": "text"
      },
      "source": [
        "Khi chạy đoạn code dưới chương trình sẽ báo lỗi '*TypeError: unsupported operand type(s) for +: 'int' and 'str' '* nghĩa là sai kiểu dữ liệu, bạn không thể cộng một số với một chuỗi, chương trình có báo đoạn 'int' cộng với 'str' là do vậy."
      ]
    },
    {
      "cell_type": "code",
      "metadata": {
        "id": "X1NUoPQuLjGN",
        "colab_type": "code",
        "outputId": "b17a1741-e49f-46d3-f88b-270a31ed3244",
        "colab": {
          "base_uri": "https://localhost:8080/",
          "height": 163
        }
      },
      "source": [
        "x = 5 + 'abc'"
      ],
      "execution_count": 0,
      "outputs": [
        {
          "output_type": "error",
          "ename": "TypeError",
          "evalue": "ignored",
          "traceback": [
            "\u001b[0;31m---------------------------------------------------------------------------\u001b[0m",
            "\u001b[0;31mTypeError\u001b[0m                                 Traceback (most recent call last)",
            "\u001b[0;32m<ipython-input-22-d692175e0b4b>\u001b[0m in \u001b[0;36m<module>\u001b[0;34m()\u001b[0m\n\u001b[0;32m----> 1\u001b[0;31m \u001b[0mx\u001b[0m \u001b[0;34m=\u001b[0m \u001b[0;36m5\u001b[0m \u001b[0;34m+\u001b[0m \u001b[0;34m'abc'\u001b[0m\u001b[0;34m\u001b[0m\u001b[0;34m\u001b[0m\u001b[0m\n\u001b[0m",
            "\u001b[0;31mTypeError\u001b[0m: unsupported operand type(s) for +: 'int' and 'str'"
          ]
        }
      ]
    },
    {
      "cell_type": "markdown",
      "metadata": {
        "id": "2Ragwrlg_p_e",
        "colab_type": "text"
      },
      "source": [
        "Đoạn code dưới đây hoàn toàn bình thường nhưng mình muốn để ở phần lỗi vì muốn các bạn chú ý tính logic của chuỗi tính toán của bạn, \n",
        "ví dụ mục đích bạn cần tính phép cộng nhưng lại nhầm thành dấu hoa thị nhân, chương trình vẫn chạy ra, nhưng đã không còn đúng với tính toán ban đầu.\n",
        "\n",
        "Để khắc phục việc này khi code bạn nên in kết quả từng đoạn nhỏ kiểm tra tính đúng đắn, đảm bảo cả chương trình đều hợp lý."
      ]
    },
    {
      "cell_type": "code",
      "metadata": {
        "id": "mH60WRmLLujm",
        "colab_type": "code",
        "outputId": "5ce41878-b8d8-4fd4-c43a-e448d9a0429d",
        "colab": {
          "base_uri": "https://localhost:8080/",
          "height": 34
        }
      },
      "source": [
        "# Mục đính muốn tính phép cộng\n",
        "total = 2 * 5\n",
        "print(total)"
      ],
      "execution_count": 0,
      "outputs": [
        {
          "output_type": "stream",
          "text": [
            "10\n"
          ],
          "name": "stdout"
        }
      ]
    },
    {
      "cell_type": "markdown",
      "metadata": {
        "id": "Q4_gpKVGA9PI",
        "colab_type": "text"
      },
      "source": [
        "Dưới đây trình bày một trò chơi nhỏ có tên \" Quả bóng ma thuật\", người chạy được nhập vào một câu hỏi bất kỳ và sẽ nhận lại câu trả lời từ quả bóng.\n",
        "\n",
        "Phần code của trò chơi khá đơn giản, các bạn có thể thực hiện để chơi với bạn bè nhé.\n"
      ]
    },
    {
      "cell_type": "code",
      "metadata": {
        "id": "s-6jDd6yBCg4",
        "colab_type": "code",
        "colab": {
          "base_uri": "https://localhost:8080/",
          "height": 153
        },
        "outputId": "ab8538ee-6d7e-4a8d-a1d6-6868a4d7c7a9"
      },
      "source": [
        "import random  # thư viện để dùng hàm random\n",
        "\n",
        "while True:      # Tạo vòng lặp\n",
        "    print()      # In một dòng trống cho đẹp thôi\n",
        "    \n",
        "    usersQuestion = input('Ask the Magic 8 Ball a question (press enter to quit): ') # cho người chơi nhập câu hỏi tùy ý\n",
        "    if usersQuestion == '':                # Kiểm tra nếu câu hỏi trống thì thoát khỏi chương trình\n",
        "        break   # we're done\n",
        "    \n",
        "    randomAnswer = random.randrange(0, 8)  # Nếu không thì lấy ngẫu nhiên một số bất kỳ từ 0 đến 8, trò này mình lấy 8 trái bóng nên đặt tên là 8 trái bóng ma thuật\n",
        "    \n",
        "    if randomAnswer == 0:                # Nếu biến randomAnswer bằng 0 thì trả về câu trả lời định trước, số lượng câu trả lời phải cùng với chuỗi số bạn lấy random. Hãy chuẩn bị câu trả lời thật hay nhé?\n",
        "        print('It is certain.')\n",
        "    \n",
        "    elif randomAnswer == 1:\n",
        "        print('Absolutely!')\n",
        "    \n",
        "    elif randomAnswer == 2:\n",
        "        print('You may rely on it.')\n",
        "    \n",
        "    elif randomAnswer == 3:\n",
        "        print('Answer is foggy, ask again later.')\n",
        "    \n",
        "    elif randomAnswer == 4:\n",
        "        print('Concentrate and ask again.')\n",
        "    \n",
        "    elif randomAnswer == 5:\n",
        "        print('Unsure at this point, try again.')\n",
        "    \n",
        "    elif randomAnswer == 6:\n",
        "        print('No way, dude!')\n",
        "    \n",
        "    elif randomAnswer == 7:\n",
        "        print('No, no, no, no, no.')\n"
      ],
      "execution_count": 10,
      "outputs": [
        {
          "output_type": "stream",
          "text": [
            "\n",
            "Ask the Magic 8 Ball a question (press enter to quit): AI VIETNAM IS GOOD\n",
            "You may rely on it.\n",
            "\n",
            "Ask the Magic 8 Ball a question (press enter to quit): THIS POST IS HELPFUL\n",
            "No, no, no, no, no.\n",
            "\n",
            "Ask the Magic 8 Ball a question (press enter to quit): \n"
          ],
          "name": "stdout"
        }
      ]
    },
    {
      "cell_type": "code",
      "metadata": {
        "id": "S84rB4bsFRB-",
        "colab_type": "code",
        "colab": {}
      },
      "source": [
        "Yay! Vậy là chúng ta vừa đi qua một số phần cơ bản của Python. Hy vọng những gì trong bài giúp ích cho các bạn. Cám ơn mọi người rất nhiều."
      ],
      "execution_count": 0,
      "outputs": []
    }
  ]
}