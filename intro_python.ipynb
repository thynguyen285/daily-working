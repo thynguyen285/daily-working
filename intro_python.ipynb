{
  "nbformat": 4,
  "nbformat_minor": 0,
  "metadata": {
    "colab": {
      "name": "PYTHON.ipynb",
      "version": "0.3.2",
      "provenance": [],
      "include_colab_link": true
    },
    "language_info": {
      "codemirror_mode": {
        "name": "ipython",
        "version": 3
      },
      "file_extension": ".py",
      "mimetype": "text/x-python",
      "name": "python",
      "nbconvert_exporter": "python",
      "pygments_lexer": "ipython3",
      "version": "3.6.5"
    },
    "kernelspec": {
      "display_name": "Python 3",
      "language": "python",
      "name": "python3"
    }
  },
  "cells": [
    {
      "cell_type": "markdown",
      "metadata": {
        "id": "view-in-github",
        "colab_type": "text"
      },
      "source": [
        "<a href=\"https://colab.research.google.com/github/thynguyen285/doing_math_with_python/blob/master/intro_python.ipynb\" target=\"_parent\"><img src=\"https://colab.research.google.com/assets/colab-badge.svg\" alt=\"Open In Colab\"/></a>"
      ]
    },
    {
      "cell_type": "markdown",
      "metadata": {
        "id": "8l8mv_sudt35",
        "colab_type": "text"
      },
      "source": [
        "## 1/ Python là gì ? "
      ]
    },
    {
      "cell_type": "markdown",
      "metadata": {
        "id": "TTFYUTpZdt37",
        "colab_type": "text"
      },
      "source": [
        "Python là một ngôn ngữ lập trình, có câu trúc đơn giản,ngắn gọn, giúp các lập trình viên dễ dùng.\n",
        "Được ra đời năm 1991 bởi Guido van Rossum.\n",
        "Python hiện tại đang ở phiên bản thứ 3 (Python 3), hai phiên bản trước đó được công bố lần lượt các năm 1994 và 2000."
      ]
    },
    {
      "cell_type": "markdown",
      "metadata": {
        "id": "IQz4iHaQdt38",
        "colab_type": "text"
      },
      "source": [
        "## 2/ Tại sao chúng ta chọn Python?"
      ]
    },
    {
      "cell_type": "markdown",
      "metadata": {
        "id": "27GSY87adt3-",
        "colab_type": "text"
      },
      "source": [
        "Chúng ta học Python vì các lý do sau: \n",
        " + Phổ biến : Theo khảo sát trên https://insights.stackoverflow.com/survey/2018 Python đứng thứ 3 ngôn ngữ được yêu thích trên thế giới và xếp thứ 7 về mức độ phổ biến năm 2018\n",
        " + Miễn phí, mã nguồn mở: Cộng đồng Python trên thế giới rất lớn và đóng góp từng ngày cải thiện.\n",
        " + Cú pháp đơn giản, dễ học, dễ đọc, hiểu.\n",
        " + Chạy trên hầu hết các nền tảng như Windows, macOs, Linux.\n",
        " + Có những thư viện kết nối phổ biến: Ví dụ bạn muốn dùng Postgressql trên Web Server, bạn chỉ cần đưa vào thư viện (***import pandas.io.sql***) và sử dụng.\n",
        " + Hướng đối tượng\n",
        " \n",
        "https://www.datacamp.com/community/tutorials/r-or-python-for-data-analysis"
      ]
    },
    {
      "cell_type": "markdown",
      "metadata": {
        "id": "g0DQoVa9dt3_",
        "colab_type": "text"
      },
      "source": [
        "## 3/ Python làm được gì ? "
      ]
    },
    {
      "cell_type": "markdown",
      "metadata": {
        "id": "H6vM9jwydt4B",
        "colab_type": "text"
      },
      "source": [
        "***1.Lập trình Web:***\n",
        "Vài nền tảng phổ biến để tạo web app là:  Django, Flask, Pyramid, Plone, Django CMS. Các trang như Mozilla, Reddit, Instagram và PBS đều được viết bằng Python.\n"
      ]
    },
    {
      "cell_type": "markdown",
      "metadata": {
        "id": "kX5Jp3wZdt4C",
        "colab_type": "text"
      },
      "source": [
        "***2.Lập trình phần mềm:***\n",
        "Gaming (Pygame), Ứng dụng deskstop (Tkinter) "
      ]
    },
    {
      "cell_type": "markdown",
      "metadata": {
        "id": "58bYAtHJdt4D",
        "colab_type": "text"
      },
      "source": [
        "***3.Nghiên cứu khoa học dữ liệu:***\n",
        "Đây có lẽ là mảng khá mạnh của Python, rất nhiều thư viện, frameworks được viết phục vụ cho việc khai thác dữ liệu xung quanh chúng ta.\n",
        "+ Các thuật toán phổ biến: Neural Networks, Deep Learning, Support Vector Machines, Random forest.\n",
        "+ Các frameworks cho tính toán và phân tích dữ liệu: pandas, numpy, scipy, maplotlib, seaborn, datetime,..\n",
        "+ Các frameworks cho ML :  scikit-learn và TensorFlow, Keras, ..\n",
        "+ Một số bài toán hay dùng ML : Hệ thống gợi ý, Nhận diện khuôn mặt, Nhận diện giọng nói."
      ]
    },
    {
      "cell_type": "markdown",
      "metadata": {
        "id": "Hq-uhCx-dt4E",
        "colab_type": "text"
      },
      "source": [
        "## 4/Các packages python thường dùng và ví dụ:"
      ]
    },
    {
      "cell_type": "markdown",
      "metadata": {
        "id": "Y1maxx9xdt4F",
        "colab_type": "text"
      },
      "source": [
        "***1.Pandas***\n",
        "*Pandas là một thư viện mã nguồn mở, công cụ phân tích và xử lý dữ liệu mạnh mẽ của ngôn ngữ lập trình python. \n",
        "Thư viện này được sử dụng rộng rãi trong cả nghiên cứu lẫn phát triển các ứng dụng về khoa học dữ liệu.*\n",
        " https://pandas.pydata.org/pandas-docs/stable/getting_started/tutorials.html"
      ]
    },
    {
      "cell_type": "markdown",
      "metadata": {
        "id": "kZqffvmTdt4G",
        "colab_type": "text"
      },
      "source": [
        "***a.Series: Là một đối tượng tương tự như mảng một chiều, giống như ma trận 1x1.Mỗi phần tử sẽ được gán chỉ số (index) từ 0 tới N-1, trong đó N là số phần tử của series.***"
      ]
    },
    {
      "cell_type": "code",
      "metadata": {
        "id": "Q9IfCmRRdt4I",
        "colab_type": "code",
        "colab": {},
        "outputId": "a77227fa-abfb-4fdd-fcee-aa1a54583093"
      },
      "source": [
        "import pandas as pd\n",
        "# Tạo ra một series với một list bất kì\n",
        "s = pd.Series(['Nguyen Van Hau', 3.14, -11012017, 'Happy New Year!'])\n",
        "print (type(s))\n",
        "print (s)"
      ],
      "execution_count": 0,
      "outputs": [
        {
          "output_type": "stream",
          "text": [
            "<class 'pandas.core.series.Series'>\n",
            "0     Nguyen Van Hau\n",
            "1               3.14\n",
            "2          -11012017\n",
            "3    Happy New Year!\n",
            "dtype: object\n"
          ],
          "name": "stdout"
        }
      ]
    },
    {
      "cell_type": "code",
      "metadata": {
        "id": "SxccftxLdt4Q",
        "colab_type": "code",
        "colab": {},
        "outputId": "e84438c1-dad6-4eeb-9281-e3e510703548"
      },
      "source": [
        "#Tạo 2 list mới một dùng làm index, một để làm phần tử\n",
        "bienXe = [29, 89, 34, 15, 52, 99, 98, 43, 18, 17]\n",
        "thanhPho = ['Hanoi', 'Hung Yen', 'Hai Duong', 'Hai Phong','TPHCM', 'Bac Ninh', 'Bac Giang', 'Da Nang', 'Nam Dinh', 'Thai Binh']\n",
        "# Tạo ra series với format pd.Series(elements,index)\n",
        "cities = pd.Series(bienXe, thanhPho)\n",
        "print (cities)"
      ],
      "execution_count": 0,
      "outputs": [
        {
          "output_type": "stream",
          "text": [
            "Hanoi        29\n",
            "Hung Yen     89\n",
            "Hai Duong    34\n",
            "Hai Phong    15\n",
            "TPHCM        52\n",
            "Bac Ninh     99\n",
            "Bac Giang    98\n",
            "Da Nang      43\n",
            "Nam Dinh     18\n",
            "Thai Binh    17\n",
            "dtype: int64\n"
          ],
          "name": "stdout"
        }
      ]
    },
    {
      "cell_type": "code",
      "metadata": {
        "id": "2COTCC2Vdt4V",
        "colab_type": "code",
        "colab": {},
        "outputId": "086ce1a7-e02e-464b-e2ee-c99b8fa574d3"
      },
      "source": [
        "# In chỉ mục của cities\n",
        "print(cities.index)"
      ],
      "execution_count": 0,
      "outputs": [
        {
          "output_type": "stream",
          "text": [
            "Index(['Hanoi', 'Hung Yen', 'Hai Duong', 'Hai Phong', 'TPHCM', 'Bac Ninh',\n",
            "       'Bac Giang', 'Da Nang', 'Nam Dinh', 'Thai Binh'],\n",
            "      dtype='object')\n"
          ],
          "name": "stdout"
        }
      ]
    },
    {
      "cell_type": "code",
      "metadata": {
        "id": "Yat34lVydt4a",
        "colab_type": "code",
        "colab": {},
        "outputId": "386218ac-2860-457c-ec8d-1cd3dc43f540"
      },
      "source": [
        "# In các thông tin tổng quát như min, max, count,..\n",
        "print(cities.describe())"
      ],
      "execution_count": 0,
      "outputs": [
        {
          "output_type": "stream",
          "text": [
            "count    10.000000\n",
            "mean     49.400000\n",
            "std      33.846713\n",
            "min      15.000000\n",
            "25%      20.750000\n",
            "50%      38.500000\n",
            "75%      79.750000\n",
            "max      99.000000\n",
            "dtype: float64\n"
          ],
          "name": "stdout"
        }
      ]
    },
    {
      "cell_type": "code",
      "metadata": {
        "id": "hjGo-yGjdt4f",
        "colab_type": "code",
        "colab": {},
        "outputId": "12094376-f228-43ad-d606-8495d3b700c0"
      },
      "source": [
        "print(len(cities))"
      ],
      "execution_count": 0,
      "outputs": [
        {
          "output_type": "stream",
          "text": [
            "10\n"
          ],
          "name": "stdout"
        }
      ]
    },
    {
      "cell_type": "markdown",
      "metadata": {
        "id": "tPgBkHetdt4j",
        "colab_type": "text"
      },
      "source": [
        "***Nhờ có index chúng ta dễ dàng chỉ định đến địa chỉ mình muốn và thực hiện các phép logic.***"
      ]
    },
    {
      "cell_type": "code",
      "metadata": {
        "id": "QfRR58sKdt4k",
        "colab_type": "code",
        "colab": {},
        "outputId": "aa2c4fce-b4c2-4181-a714-88d8daab97e1"
      },
      "source": [
        "# Trong series chỉ tới địa chỉ có index = 'Hanoi' và lấy phần tử đó ra ngoài.\n",
        "cities['Hanoi']"
      ],
      "execution_count": 0,
      "outputs": [
        {
          "output_type": "execute_result",
          "data": {
            "text/plain": [
              "29"
            ]
          },
          "metadata": {
            "tags": []
          },
          "execution_count": 6
        }
      ]
    },
    {
      "cell_type": "code",
      "metadata": {
        "id": "mJuR85f5dt4q",
        "colab_type": "code",
        "colab": {},
        "outputId": "263eb030-cc9e-4b0f-fb1f-efd9f1f6bddd"
      },
      "source": [
        "# Khởi tạo biến total = 0 chạy vòng lặp cộng các phần tử theo từng index trong series cities\n",
        "total = 0\n",
        "for item in cities:\n",
        "    total+=item\n",
        "print(total)"
      ],
      "execution_count": 0,
      "outputs": [
        {
          "output_type": "stream",
          "text": [
            "494\n"
          ],
          "name": "stdout"
        }
      ]
    },
    {
      "cell_type": "code",
      "metadata": {
        "id": "qDOG5Nkndt4v",
        "colab_type": "code",
        "colab": {},
        "outputId": "0d3f0e42-7faf-4743-95ce-16926ff7bf78"
      },
      "source": [
        "# Hoặc dùng một cách nhanh hơn\n",
        "cities.sum()"
      ],
      "execution_count": 0,
      "outputs": [
        {
          "output_type": "execute_result",
          "data": {
            "text/plain": [
              "494"
            ]
          },
          "metadata": {
            "tags": []
          },
          "execution_count": 8
        }
      ]
    },
    {
      "cell_type": "code",
      "metadata": {
        "id": "PWxsTMg9dt4y",
        "colab_type": "code",
        "colab": {},
        "outputId": "0fdbcf3e-cc4b-48ee-85db-295a69147a73"
      },
      "source": [
        "# Thực hiện phép bool trong series\n",
        "print (cities[cities > 50])"
      ],
      "execution_count": 0,
      "outputs": [
        {
          "output_type": "stream",
          "text": [
            "Hung Yen     89\n",
            "TPHCM        52\n",
            "Bac Ninh     99\n",
            "Bac Giang    98\n",
            "dtype: int64\n"
          ],
          "name": "stdout"
        }
      ]
    },
    {
      "cell_type": "code",
      "metadata": {
        "id": "EsKNuS26dt42",
        "colab_type": "code",
        "colab": {},
        "outputId": "377da145-bce5-433f-a64f-40bff6af51ea"
      },
      "source": [
        "cities_1 = cities-10\n",
        "print (cities_1)"
      ],
      "execution_count": 0,
      "outputs": [
        {
          "output_type": "stream",
          "text": [
            "Hanoi        19\n",
            "Hung Yen     79\n",
            "Hai Duong    24\n",
            "Hai Phong     5\n",
            "TPHCM        42\n",
            "Bac Ninh     89\n",
            "Bac Giang    88\n",
            "Da Nang      33\n",
            "Nam Dinh      8\n",
            "Thai Binh     7\n",
            "dtype: int64\n"
          ],
          "name": "stdout"
        }
      ]
    },
    {
      "cell_type": "markdown",
      "metadata": {
        "id": "0gqU2mo3dt47",
        "colab_type": "text"
      },
      "source": [
        "***b.Dataframe: Có cấu trúc dạng bảng, có thể xem như một ma trận mxn, gồm hàng (index) và cột (name).Chúng ta có thể coi DataFrame là một nhóm các đối tượng Series cùng với các index.***"
      ]
    },
    {
      "cell_type": "code",
      "metadata": {
        "id": "OHZewXdSdt49",
        "colab_type": "code",
        "colab": {}
      },
      "source": [
        "# Tạo một dataframe từ nhiều series\n",
        "import pandas as pd\n",
        "item1 = pd.Series({'Name': 'Hau',\n",
        "                        'Book1': 'Machine Learning',\n",
        "                        'Book2': 'Data Mining',\n",
        "                        'Cost': 22.50})\n",
        "\n",
        "item2 = pd.Series({'Name': 'M.Quy',\n",
        "                        'Book1': 'Parallel Computing',\n",
        "                        'Book2': 'Software Engineering',\n",
        "                        'Cost': 24.10})\n",
        "\n",
        "item3 = pd.Series({ 'Name': 'Dong',\n",
        "                        'Book1': 'Rough Set',\n",
        "                        'Book2': 'Big Data',\n",
        "                        'Cost': 32.40})\n",
        "\n",
        "item4 = pd.Series({'Name': 'Nang',\n",
        "                        'Book1': 'NLP',\n",
        "                        'Book2': 'Data Mining',\n",
        "                        'Cost': 28.00})\n",
        "\n",
        "item5 = pd.Series({'Name': 'Diep',\n",
        "                        'Book1': 'Machine Learning',\n",
        "                        'Book2': 'Parallel Computing',\n",
        "                        'Cost': 34.00})\n",
        "\n",
        "item6 = pd.Series({'Name': 'Trang',\n",
        "                        'Book1': 'Software Testing',\n",
        "                        'Book2': 'Machine Learning',\n",
        "                        'Cost': 42.00})\n",
        "\n",
        "item7 = pd.Series({'Name': 'Hue',\n",
        "                        'Book1': 'Python Programming',\n",
        "                        'Book2': 'Big Data',\n",
        "                        'Cost': 42.00})\n",
        "\n",
        "df = pd.DataFrame([item1, item2, item3, item4, item5, item6, item7], \n",
        "index=['Amazon', 'Dinh Le', 'Amazon', 'Dinh Le', 'Ebay', 'Alibaba', 'Amazon'])"
      ],
      "execution_count": 0,
      "outputs": []
    },
    {
      "cell_type": "code",
      "metadata": {
        "id": "Qbx-c3S9dt4_",
        "colab_type": "code",
        "colab": {},
        "outputId": "96553317-4454-4aee-f787-3d8f80603f91"
      },
      "source": [
        "df.head(2)"
      ],
      "execution_count": 0,
      "outputs": [
        {
          "output_type": "execute_result",
          "data": {
            "text/html": [
              "<div>\n",
              "<style scoped>\n",
              "    .dataframe tbody tr th:only-of-type {\n",
              "        vertical-align: middle;\n",
              "    }\n",
              "\n",
              "    .dataframe tbody tr th {\n",
              "        vertical-align: top;\n",
              "    }\n",
              "\n",
              "    .dataframe thead th {\n",
              "        text-align: right;\n",
              "    }\n",
              "</style>\n",
              "<table border=\"1\" class=\"dataframe\">\n",
              "  <thead>\n",
              "    <tr style=\"text-align: right;\">\n",
              "      <th></th>\n",
              "      <th>Name</th>\n",
              "      <th>Book1</th>\n",
              "      <th>Book2</th>\n",
              "      <th>Cost</th>\n",
              "    </tr>\n",
              "  </thead>\n",
              "  <tbody>\n",
              "    <tr>\n",
              "      <th>Amazon</th>\n",
              "      <td>Hau</td>\n",
              "      <td>Machine Learning</td>\n",
              "      <td>Data Mining</td>\n",
              "      <td>22.5</td>\n",
              "    </tr>\n",
              "    <tr>\n",
              "      <th>Dinh Le</th>\n",
              "      <td>M.Quy</td>\n",
              "      <td>Parallel Computing</td>\n",
              "      <td>Software Engineering</td>\n",
              "      <td>24.1</td>\n",
              "    </tr>\n",
              "  </tbody>\n",
              "</table>\n",
              "</div>"
            ],
            "text/plain": [
              "          Name               Book1                 Book2  Cost\n",
              "Amazon     Hau    Machine Learning           Data Mining  22.5\n",
              "Dinh Le  M.Quy  Parallel Computing  Software Engineering  24.1"
            ]
          },
          "metadata": {
            "tags": []
          },
          "execution_count": 12
        }
      ]
    },
    {
      "cell_type": "markdown",
      "metadata": {
        "id": "Jit33Tffdt5E",
        "colab_type": "text"
      },
      "source": [
        "**giống như Series, Dataframe cũng thực hiện được các phép so sánh, truy vấn, tính toán.**"
      ]
    },
    {
      "cell_type": "code",
      "metadata": {
        "id": "PVJQIiELdt5F",
        "colab_type": "code",
        "colab": {}
      },
      "source": [
        "# df = df.rename(columns = {'Book1':'Quyển sách thứ 1'})\n",
        "df[df['Cost'] < 25]\n",
        "df['cost*2'] = df['Cost']*2"
      ],
      "execution_count": 0,
      "outputs": []
    },
    {
      "cell_type": "markdown",
      "metadata": {
        "id": "Gyk40iY2dt5I",
        "colab_type": "text"
      },
      "source": [
        "***2.Numpy***\n",
        "Numpy là một packages của Python (Numerical Python). Phục vụ cho việc tính toán, đối tượng hoạt động trong numpy là mảng nhiều chiều.\n",
        "Người ta hay nhầm array với list, cùng tìm hiểu nhé. Nhìn chung, chúng đều dùng để chứa dữ liệu, có thể tạo index,cắt lát. Nhưng chúng khác nhau về mục tiêu dùng nên hiệu năng cũng sẽ khác nhau."
      ]
    },
    {
      "cell_type": "code",
      "metadata": {
        "id": "b3-ZUCPWdt5J",
        "colab_type": "code",
        "colab": {},
        "outputId": "cccb7d67-0b20-4d10-acee-c6c8de7370ba"
      },
      "source": [
        "# Mảng một chiều và nhiều chiều.\n",
        "import numpy as np\n",
        "a=np.array([1,2,3])\n",
        "b=np.array([(1,2,3),(4,5,6)])\n",
        "print(a)\n",
        "print(b)"
      ],
      "execution_count": 0,
      "outputs": [
        {
          "output_type": "stream",
          "text": [
            "[1 2 3]\n",
            "[[1 2 3]\n",
            " [4 5 6]]\n"
          ],
          "name": "stdout"
        }
      ]
    },
    {
      "cell_type": "code",
      "metadata": {
        "id": "DM8GwYgAdt5O",
        "colab_type": "code",
        "colab": {},
        "outputId": "78347e7b-b3dd-46be-ecc0-c33dcc6e70fb"
      },
      "source": [
        "# Mục đích dùng của list và array \n",
        "import numpy\n",
        "cost = np.array([4,8,10,16,18,22,120])\n",
        "print(cost/2)\n",
        "cost2 = [4,8,10,16,18,22,120]\n",
        "print(cost2/2)"
      ],
      "execution_count": 0,
      "outputs": [
        {
          "output_type": "stream",
          "text": [
            "[ 2.  4.  5.  8.  9. 11. 60.]\n"
          ],
          "name": "stdout"
        },
        {
          "output_type": "error",
          "ename": "TypeError",
          "evalue": "unsupported operand type(s) for /: 'list' and 'int'",
          "traceback": [
            "\u001b[1;31m---------------------------------------------------------------------------\u001b[0m",
            "\u001b[1;31mTypeError\u001b[0m                                 Traceback (most recent call last)",
            "\u001b[1;32m<ipython-input-15-921375b82a67>\u001b[0m in \u001b[0;36m<module>\u001b[1;34m()\u001b[0m\n\u001b[0;32m      4\u001b[0m \u001b[0mprint\u001b[0m\u001b[1;33m(\u001b[0m\u001b[0mcost\u001b[0m\u001b[1;33m/\u001b[0m\u001b[1;36m2\u001b[0m\u001b[1;33m)\u001b[0m\u001b[1;33m\u001b[0m\u001b[0m\n\u001b[0;32m      5\u001b[0m \u001b[0mcost2\u001b[0m \u001b[1;33m=\u001b[0m \u001b[1;33m[\u001b[0m\u001b[1;36m4\u001b[0m\u001b[1;33m,\u001b[0m\u001b[1;36m8\u001b[0m\u001b[1;33m,\u001b[0m\u001b[1;36m10\u001b[0m\u001b[1;33m,\u001b[0m\u001b[1;36m16\u001b[0m\u001b[1;33m,\u001b[0m\u001b[1;36m18\u001b[0m\u001b[1;33m,\u001b[0m\u001b[1;36m22\u001b[0m\u001b[1;33m,\u001b[0m\u001b[1;36m120\u001b[0m\u001b[1;33m]\u001b[0m\u001b[1;33m\u001b[0m\u001b[0m\n\u001b[1;32m----> 6\u001b[1;33m \u001b[0mprint\u001b[0m\u001b[1;33m(\u001b[0m\u001b[0mcost2\u001b[0m\u001b[1;33m/\u001b[0m\u001b[1;36m2\u001b[0m\u001b[1;33m)\u001b[0m\u001b[1;33m\u001b[0m\u001b[0m\n\u001b[0m",
            "\u001b[1;31mTypeError\u001b[0m: unsupported operand type(s) for /: 'list' and 'int'"
          ]
        }
      ]
    },
    {
      "cell_type": "code",
      "metadata": {
        "id": "f59akrD8dt5T",
        "colab_type": "code",
        "colab": {},
        "outputId": "60d12ca4-b798-480c-d90b-0377b916a666"
      },
      "source": [
        "# So sánh vùng chứa của list và array \n",
        "import numpy as np\n",
        "import sys\n",
        "S= range(1000)\n",
        "print(sys.getsizeof(S)*len(S))\n",
        "D= np.arange(1000)\n",
        "print(D.size*D.itemsize)"
      ],
      "execution_count": 0,
      "outputs": [
        {
          "output_type": "stream",
          "text": [
            "48000\n",
            "4000\n"
          ],
          "name": "stdout"
        }
      ]
    },
    {
      "cell_type": "code",
      "metadata": {
        "id": "2bVkvmkcdt5W",
        "colab_type": "code",
        "colab": {},
        "outputId": "54995e03-a5bc-4c84-c8cd-b7c18da74b3a"
      },
      "source": [
        "# So sánh tốc độ tính toán của list và array\n",
        "import time\n",
        "import sys\n",
        "SIZE = 1000000\n",
        "L1= range(SIZE)\n",
        "L2= range(SIZE)\n",
        "A1= np.arange(SIZE)\n",
        "A2=np.arange(SIZE)\n",
        " \n",
        "start= time.time()\n",
        "result=[(x,y) for x,y in zip(L1,L2)]\n",
        "print((time.time()-start)*1000)\n",
        "start=time.time()\n",
        "result= A1+A2\n",
        "print((time.time()-start)*1000)"
      ],
      "execution_count": 0,
      "outputs": [
        {
          "output_type": "stream",
          "text": [
            "167.35291481018066\n",
            "48.59781265258789\n"
          ],
          "name": "stdout"
        }
      ]
    },
    {
      "cell_type": "markdown",
      "metadata": {
        "id": "AEiqHo4ydt5Z",
        "colab_type": "text"
      },
      "source": [
        "***Vậy từ nay khi dùng numpy thì nhớ để ý đến kiểu dữ liệu nhé. bây giờ xem numpy làm được gì nào***"
      ]
    },
    {
      "cell_type": "code",
      "metadata": {
        "id": "eP4rL5lvdt5a",
        "colab_type": "code",
        "colab": {},
        "outputId": "f0535b49-0f43-4acf-c1db-8ef0f7b9d175"
      },
      "source": [
        "# ndim : tìm chiều của mảng\n",
        "import numpy as np\n",
        "a = np.array([(1,2,3),(4,5,6)])\n",
        "print(a.ndim)"
      ],
      "execution_count": 0,
      "outputs": [
        {
          "output_type": "stream",
          "text": [
            "2\n"
          ],
          "name": "stdout"
        }
      ]
    },
    {
      "cell_type": "code",
      "metadata": {
        "id": "81p0ddXtdt5e",
        "colab_type": "code",
        "colab": {},
        "outputId": "6651aa2a-2792-4d54-cca8-b2c6871fde33"
      },
      "source": [
        "# reshape : nghịch đảo ma trận.\n",
        "import numpy as np\n",
        "a = np.array([(8,9,10),(11,12,13)])\n",
        "print(a)\n",
        "a=a.reshape(3,2)\n",
        "print(a)"
      ],
      "execution_count": 0,
      "outputs": [
        {
          "output_type": "stream",
          "text": [
            "[[ 8  9 10]\n",
            " [11 12 13]]\n",
            "[[ 8  9]\n",
            " [10 11]\n",
            " [12 13]]\n"
          ],
          "name": "stdout"
        }
      ]
    },
    {
      "cell_type": "code",
      "metadata": {
        "id": "jgYuiTEtdt5h",
        "colab_type": "code",
        "colab": {},
        "outputId": "1b6388c7-c38e-4d51-d8dd-ca82cd31c2e2"
      },
      "source": [
        "# Từ một mảng nhiều chiều, ta có thể trích xuất bất cứ vị trí nào bằng cách chỉ đến địa chỉ của nó.\n",
        "import numpy as np\n",
        "a=np.array([(1,2,3,4),(3,4,5,6)])\n",
        "b=np.array([(8,9),(10,11),(12,13)])\n",
        "print(a)\n",
        "print(a[0,2])\n",
        "print(a[0:,2])\n",
        "print(b[0:2,1])"
      ],
      "execution_count": 0,
      "outputs": [
        {
          "output_type": "stream",
          "text": [
            "[[1 2 3 4]\n",
            " [3 4 5 6]]\n",
            "3\n",
            "[3 5]\n",
            "[ 9 11]\n"
          ],
          "name": "stdout"
        }
      ]
    },
    {
      "cell_type": "code",
      "metadata": {
        "id": "pmb8QjLkdt5s",
        "colab_type": "code",
        "colab": {},
        "outputId": "a4f6af4a-e511-4ae7-aa0a-a7d9d72949cf"
      },
      "source": [
        "# phát sinh mảng 10 ký tự từ 1 đến 3 có bước nhảy bằng nhau\n",
        "import numpy as np\n",
        "a=np.linspace(1,3,20)\n",
        "print(a)"
      ],
      "execution_count": 0,
      "outputs": [
        {
          "output_type": "stream",
          "text": [
            "[1.         1.10526316 1.21052632 1.31578947 1.42105263 1.52631579\n",
            " 1.63157895 1.73684211 1.84210526 1.94736842 2.05263158 2.15789474\n",
            " 2.26315789 2.36842105 2.47368421 2.57894737 2.68421053 2.78947368\n",
            " 2.89473684 3.        ]\n"
          ],
          "name": "stdout"
        }
      ]
    },
    {
      "cell_type": "code",
      "metadata": {
        "id": "NV9arSt-dt5v",
        "colab_type": "code",
        "colab": {},
        "outputId": "99497aaf-6689-4a19-e8c3-561a946a44ca"
      },
      "source": [
        "# Thực hiện các tính toán như min, max, sum, sprt, std\n",
        "import numpy as np\n",
        "a= np.array([1,2,3])\n",
        "print(a.min())\n",
        "print(a.max())\n",
        "print(a.sum())"
      ],
      "execution_count": 0,
      "outputs": [
        {
          "output_type": "stream",
          "text": [
            "1\n",
            "3\n",
            "6\n"
          ],
          "name": "stdout"
        }
      ]
    },
    {
      "cell_type": "code",
      "metadata": {
        "id": "LzBgID44dt50",
        "colab_type": "code",
        "colab": {},
        "outputId": "9b489352-2b77-4ef4-eb14-fa61317b40fc"
      },
      "source": [
        "import numpy as np\n",
        "a=np.array([(1,2,3),(3,4,5,)])\n",
        "print(np.sqrt(a))\n",
        "print(np.std(a))\n",
        "print(np.exp(a))\n",
        "print(np.log10(a))"
      ],
      "execution_count": 0,
      "outputs": [
        {
          "output_type": "stream",
          "text": [
            "[[1.         1.41421356 1.73205081]\n",
            " [1.73205081 2.         2.23606798]]\n",
            "1.2909944487358056\n",
            "[[  2.71828183   7.3890561   20.08553692]\n",
            " [ 20.08553692  54.59815003 148.4131591 ]]\n",
            "[[0.         0.30103    0.47712125]\n",
            " [0.47712125 0.60205999 0.69897   ]]\n"
          ],
          "name": "stdout"
        }
      ]
    },
    {
      "cell_type": "code",
      "metadata": {
        "id": "dYlDoiwCdt54",
        "colab_type": "code",
        "colab": {},
        "outputId": "1f8ba8d0-f579-474e-cad0-f09fbe456360"
      },
      "source": [
        "# Cộng trừ, nhân, chia ma trận\n",
        "x= np.array([(1,2,3),(3,4,5)])\n",
        "y= np.array([(1,2,3),(3,4,5)])\n",
        "print(x+y)\n",
        "print(x-y)\n",
        "print(x*y)\n",
        "print(x/y)"
      ],
      "execution_count": 0,
      "outputs": [
        {
          "output_type": "stream",
          "text": [
            "[[ 2  4  6]\n",
            " [ 6  8 10]]\n",
            "[[0 0 0]\n",
            " [0 0 0]]\n",
            "[[ 1  4  9]\n",
            " [ 9 16 25]]\n",
            "[[1. 1. 1.]\n",
            " [1. 1. 1.]]\n"
          ],
          "name": "stdout"
        }
      ]
    },
    {
      "cell_type": "code",
      "metadata": {
        "id": "bXBMkv9ndt57",
        "colab_type": "code",
        "colab": {},
        "outputId": "0ad8242c-e421-46ac-acce-146e2fbfe2dc"
      },
      "source": [
        "# cắt, ghép các trận, đảo chiều tạo một mảng mới\n",
        "import numpy as np\n",
        "x= np.array([(1,2,3),(3,4,5)])\n",
        "y= np.array([(1,2,3),(3,4,5)])\n",
        "print(np.vstack((x,y)))\n",
        "print(np.hstack((x,y)))\n",
        "print(np.hstack((x,y)))"
      ],
      "execution_count": 0,
      "outputs": [
        {
          "output_type": "stream",
          "text": [
            "[[1 2 3]\n",
            " [3 4 5]\n",
            " [1 2 3]\n",
            " [3 4 5]]\n",
            "[[1 2 3 1 2 3]\n",
            " [3 4 5 3 4 5]]\n",
            "[[1 2 3 1 2 3]\n",
            " [3 4 5 3 4 5]]\n"
          ],
          "name": "stdout"
        }
      ]
    },
    {
      "cell_type": "code",
      "metadata": {
        "id": "op18jifadt5_",
        "colab_type": "code",
        "colab": {},
        "outputId": "154fb0b0-5405-47fa-ffba-176239778ca1"
      },
      "source": [
        "import numpy as np\n",
        "x= np.array([(1,2,3),(3,4,5)])\n",
        "print(np.vstack((x.ravel(),y.ravel())))"
      ],
      "execution_count": 0,
      "outputs": [
        {
          "output_type": "stream",
          "text": [
            "[[1 2 3 3 4 5]\n",
            " [1 2 3 3 4 5]]\n"
          ],
          "name": "stdout"
        }
      ]
    },
    {
      "cell_type": "markdown",
      "metadata": {
        "id": "RmljTdj6dt6C",
        "colab_type": "text"
      },
      "source": [
        "***3.Matplotlib***\n",
        "Matplotlib là một thư viện python dùng để vẽ các đồ thị 2D, mục đích cuối cùng vẫn là trực quan hóa dữ liệu. Cấu trúc khá giống MATLAB.Matplotlib có những module để phục vụ mục đích nhất định(image, lines,..).Thường được dùng là module pyplot.\n",
        "https://github.com/matplotlib/matplotlib\n",
        "https://matplotlib.org/py-modindex.html"
      ]
    },
    {
      "cell_type": "code",
      "metadata": {
        "id": "0XUV2OtVdt6D",
        "colab_type": "code",
        "colab": {},
        "outputId": "7fbd3b08-b127-4c9b-84b9-83f74aeb93d9"
      },
      "source": [
        "import numpy as np\n",
        "import matplotlib.pyplot as plt\n",
        "x = np.arange(0, 5, 0.1);\n",
        "y = np.sin(x)\n",
        "plt.plot(x, y)"
      ],
      "execution_count": 0,
      "outputs": [
        {
          "output_type": "execute_result",
          "data": {
            "text/plain": [
              "[<matplotlib.lines.Line2D at 0x19b4b6aa470>]"
            ]
          },
          "metadata": {
            "tags": []
          },
          "execution_count": 27
        }
      ]
    },
    {
      "cell_type": "code",
      "metadata": {
        "id": "9ouFpiF0dt6H",
        "colab_type": "code",
        "colab": {},
        "outputId": "751c34ba-cd57-4c09-9c61-56a9b4485e37"
      },
      "source": [
        "import matplotlib.pyplot as plt\n",
        "import numpy as np\n",
        "import pandas as pd\n",
        "\n",
        "width = .35 # width of a bar\n",
        "\n",
        "m1_t = pd.DataFrame({\n",
        " 'abnormal' : [90,40,30,30,30,25,25,20,15,10],\n",
        " 'fix' : [60,70,65,70,70,60,50,45,45,45],\n",
        " 'normal' : [140,160,170,180,190,200,210,220,230,240],\n",
        " 'bad_rate' : [210,100,100,70,70,75,70,60,65,60]})\n",
        "\n",
        "m1_t[['abnormal','fix','normal']].plot(kind='bar', width = width)\n",
        "m1_t['bad_rate'].plot(secondary_y=True)\n",
        "\n",
        "ax = plt.gca()\n",
        "plt.xlim([-width, len(m1_t['normal'])-width])\n",
        "ax.set_xticklabels(('G1', 'G2', 'G3', 'G4', 'G5', 'G6', 'G7', 'G8', 'G9', 'G10'))\n",
        "\n",
        "plt.show()"
      ],
      "execution_count": 0,
      "outputs": [
        {
          "output_type": "display_data",
          "data": {
            "image/png": "[encoded data removed]",
            "text/plain": [
              "<Figure size 432x288 with 2 Axes>"
            ]
          },
          "metadata": {
            "tags": []
          }
        }
      ]
    },
    {
      "cell_type": "code",
      "metadata": {
        "id": "zJGZLPAwdt6K",
        "colab_type": "code",
        "colab": {},
        "outputId": "18cbc935-0c82-4447-c88c-2d0b4918a226"
      },
      "source": [
        "import numpy as np\n",
        "import matplotlib.mlab as mlab\n",
        "import matplotlib.pyplot as plt\n",
        "\n",
        "np.random.seed(0)\n",
        "\n",
        "# example data\n",
        "mu = 100  # mean of distribution\n",
        "sigma = 15  # standard deviation of distribution\n",
        "x = mu + sigma * np.random.randn(437)\n",
        "num_bins = 50\n",
        "fig, ax = plt.subplots()\n",
        "# the histogram of the data\n",
        "n, bins, patches = ax.hist(x, num_bins, normed=1)\n",
        "# add a 'best fit' line\n",
        "y = mlab.normpdf(bins, mu, sigma)\n",
        "ax.plot(bins, y, '--')\n",
        "ax.set_xlabel('Smarts')\n",
        "ax.set_ylabel('Probability density')\n",
        "ax.set_title(r'Histogram of IQ: $\\mu=100$, $\\sigma=15$')\n",
        "\n",
        "# Tweak spacing to prevent clipping of ylabel\n",
        "fig.tight_layout()\n",
        "plt.show()"
      ],
      "execution_count": 0,
      "outputs": [
        {
          "output_type": "stream",
          "text": [
            "C:\\Users\\a\\Anaconda3\\lib\\site-packages\\matplotlib\\axes\\_axes.py:6462: UserWarning: The 'normed' kwarg is deprecated, and has been replaced by the 'density' kwarg.\n",
            "  warnings.warn(\"The 'normed' kwarg is deprecated, and has been \"\n",
            "C:\\Users\\a\\Anaconda3\\lib\\site-packages\\ipykernel_launcher.py:16: MatplotlibDeprecationWarning: scipy.stats.norm.pdf\n",
            "  app.launch_new_instance()\n"
          ],
          "name": "stderr"
        },
        {
          "output_type": "display_data",
          "data": {
            "image/png": "[encoded data removed]",
            "text/plain": [
              "<Figure size 432x288 with 1 Axes>"
            ]
          },
          "metadata": {
            "tags": []
          }
        }
      ]
    },
    {
      "cell_type": "code",
      "metadata": {
        "id": "T29lZNAtdt6M",
        "colab_type": "code",
        "colab": {},
        "outputId": "90a115b6-ff3d-4024-c70a-0d8ccd823534"
      },
      "source": [
        "labels = 'Quận 10', 'Quận Tân Bình', 'Quận 2', 'Quận 5'\n",
        "sizes = [15, 30, 45, 10]\n",
        "explode = (0, 0.1, 0, 0)  # only \"explode\" the 2nd slice (i.e. 'Hogs')\n",
        "\n",
        "fig1, ax1 = plt.subplots()\n",
        "ax1.pie(sizes, explode=explode, labels=labels, autopct='%1.1f%%',\n",
        "        shadow=True, startangle=100)\n",
        "ax1.axis('equal')  # Equal aspect ratio ensures that pie is drawn as a circle.\n",
        "ax1.set_title(\"MONTHLY ACTIVE USER BY DISTRICT\")\n",
        "plt.show()"
      ],
      "execution_count": 0,
      "outputs": [
        {
          "output_type": "display_data",
          "data": {
            "image/png": "[encoded data removed]",
            "text/plain": [
              "<Figure size 432x288 with 1 Axes>"
            ]
          },
          "metadata": {
            "tags": []
          }
        }
      ]
    },
    {
      "cell_type": "markdown",
      "metadata": {
        "id": "BdumIugCdt6P",
        "colab_type": "text"
      },
      "source": [
        "***4.Scikit-learn***\n",
        "scikit-learn là một thư viện mã nguồn mở trong ngành machine learning, rất mạnh mẽ và thông dụng với cộng đồng Python, được thiết kế trên nền NumPy và SciPy. Scikit-learn chứa hầu hết các thuật toán machine learning hiện đại nhất, có documentations.\n",
        "Có độ tin tưởng cao vì các developers đều có background về data science,đứng sau Scikit-learn là các viện nghiên cứu hàng đầu thế giới, gồm có Inria, Télécom Paristech, Paris-Saclay (Pháp), NYU Moore-Sloan Data Science Environment và Columbia University.\n",
        "https://scikit-learn.org/stable/index.html"
      ]
    },
    {
      "cell_type": "markdown",
      "metadata": {
        "id": "_kDEsPc-dt6Q",
        "colab_type": "text"
      },
      "source": [
        "***Cùng demo thử một bài toán rất đơn giản là hồi quy một biến dùng scikit-learn nha.***"
      ]
    },
    {
      "cell_type": "markdown",
      "metadata": {
        "id": "v4g3LmXqdt6Q",
        "colab_type": "text"
      },
      "source": [
        "Mục tiêu của bài toán này dự báo nhiệt độ cao nhất khi truyền vào nhiệt độ thấp nhất.\n",
        "Tập dữ liệu được download từ https://drive.google.com/file/d/1fiHg5DyvQeRC4SyhsVnje5dhJNyVWpO1/view"
      ]
    },
    {
      "cell_type": "code",
      "metadata": {
        "id": "XxId2KUgdt6R",
        "colab_type": "code",
        "colab": {}
      },
      "source": [
        "# import packages cần dùng\n",
        "import pandas as pd  \n",
        "import numpy as np  \n",
        "import seaborn as sns\n",
        "import matplotlib.pyplot as plt  \n",
        "from sklearn.model_selection import train_test_split \n",
        "from sklearn.linear_model import LinearRegression\n",
        "from sklearn import metrics"
      ],
      "execution_count": 0,
      "outputs": []
    },
    {
      "cell_type": "code",
      "metadata": {
        "id": "Ckje2vINdt6T",
        "colab_type": "code",
        "colab": {},
        "outputId": "6c0a10df-aee3-4a18-f18a-b861bd9d2efa"
      },
      "source": [
        "# input tập dữ liệu \n",
        "dataset  = pd.read_csv('/Users/a/Desktop/study/Weather.csv')"
      ],
      "execution_count": 0,
      "outputs": [
        {
          "output_type": "stream",
          "text": [
            "C:\\Users\\a\\Anaconda3\\lib\\site-packages\\IPython\\core\\interactiveshell.py:2785: DtypeWarning: Columns (7,8,18,25) have mixed types. Specify dtype option on import or set low_memory=False.\n",
            "  interactivity=interactivity, compiler=compiler, result=result)\n"
          ],
          "name": "stderr"
        }
      ]
    },
    {
      "cell_type": "code",
      "metadata": {
        "id": "XdNC14endt6Z",
        "colab_type": "code",
        "colab": {},
        "outputId": "a55b4ada-d9bf-4731-d25d-02668f808710"
      },
      "source": [
        "dataset.head()"
      ],
      "execution_count": 0,
      "outputs": [
        {
          "output_type": "execute_result",
          "data": {
            "text/html": [
              "<div>\n",
              "<style scoped>\n",
              "    .dataframe tbody tr th:only-of-type {\n",
              "        vertical-align: middle;\n",
              "    }\n",
              "\n",
              "    .dataframe tbody tr th {\n",
              "        vertical-align: top;\n",
              "    }\n",
              "\n",
              "    .dataframe thead th {\n",
              "        text-align: right;\n",
              "    }\n",
              "</style>\n",
              "<table border=\"1\" class=\"dataframe\">\n",
              "  <thead>\n",
              "    <tr style=\"text-align: right;\">\n",
              "      <th></th>\n",
              "      <th>STA</th>\n",
              "      <th>Date</th>\n",
              "      <th>Precip</th>\n",
              "      <th>WindGustSpd</th>\n",
              "      <th>MaxTemp</th>\n",
              "      <th>MinTemp</th>\n",
              "      <th>MeanTemp</th>\n",
              "      <th>Snowfall</th>\n",
              "      <th>PoorWeather</th>\n",
              "      <th>YR</th>\n",
              "      <th>...</th>\n",
              "      <th>FB</th>\n",
              "      <th>FTI</th>\n",
              "      <th>ITH</th>\n",
              "      <th>PGT</th>\n",
              "      <th>TSHDSBRSGF</th>\n",
              "      <th>SD3</th>\n",
              "      <th>RHX</th>\n",
              "      <th>RHN</th>\n",
              "      <th>RVG</th>\n",
              "      <th>WTE</th>\n",
              "    </tr>\n",
              "  </thead>\n",
              "  <tbody>\n",
              "    <tr>\n",
              "      <th>0</th>\n",
              "      <td>10001</td>\n",
              "      <td>1942-7-1</td>\n",
              "      <td>1.016</td>\n",
              "      <td>NaN</td>\n",
              "      <td>25.555556</td>\n",
              "      <td>22.222222</td>\n",
              "      <td>23.888889</td>\n",
              "      <td>0</td>\n",
              "      <td>NaN</td>\n",
              "      <td>42</td>\n",
              "      <td>...</td>\n",
              "      <td>NaN</td>\n",
              "      <td>NaN</td>\n",
              "      <td>NaN</td>\n",
              "      <td>NaN</td>\n",
              "      <td>NaN</td>\n",
              "      <td>NaN</td>\n",
              "      <td>NaN</td>\n",
              "      <td>NaN</td>\n",
              "      <td>NaN</td>\n",
              "      <td>NaN</td>\n",
              "    </tr>\n",
              "    <tr>\n",
              "      <th>1</th>\n",
              "      <td>10001</td>\n",
              "      <td>1942-7-2</td>\n",
              "      <td>0</td>\n",
              "      <td>NaN</td>\n",
              "      <td>28.888889</td>\n",
              "      <td>21.666667</td>\n",
              "      <td>25.555556</td>\n",
              "      <td>0</td>\n",
              "      <td>NaN</td>\n",
              "      <td>42</td>\n",
              "      <td>...</td>\n",
              "      <td>NaN</td>\n",
              "      <td>NaN</td>\n",
              "      <td>NaN</td>\n",
              "      <td>NaN</td>\n",
              "      <td>NaN</td>\n",
              "      <td>NaN</td>\n",
              "      <td>NaN</td>\n",
              "      <td>NaN</td>\n",
              "      <td>NaN</td>\n",
              "      <td>NaN</td>\n",
              "    </tr>\n",
              "    <tr>\n",
              "      <th>2</th>\n",
              "      <td>10001</td>\n",
              "      <td>1942-7-3</td>\n",
              "      <td>2.54</td>\n",
              "      <td>NaN</td>\n",
              "      <td>26.111111</td>\n",
              "      <td>22.222222</td>\n",
              "      <td>24.444444</td>\n",
              "      <td>0</td>\n",
              "      <td>NaN</td>\n",
              "      <td>42</td>\n",
              "      <td>...</td>\n",
              "      <td>NaN</td>\n",
              "      <td>NaN</td>\n",
              "      <td>NaN</td>\n",
              "      <td>NaN</td>\n",
              "      <td>NaN</td>\n",
              "      <td>NaN</td>\n",
              "      <td>NaN</td>\n",
              "      <td>NaN</td>\n",
              "      <td>NaN</td>\n",
              "      <td>NaN</td>\n",
              "    </tr>\n",
              "    <tr>\n",
              "      <th>3</th>\n",
              "      <td>10001</td>\n",
              "      <td>1942-7-4</td>\n",
              "      <td>2.54</td>\n",
              "      <td>NaN</td>\n",
              "      <td>26.666667</td>\n",
              "      <td>22.222222</td>\n",
              "      <td>24.444444</td>\n",
              "      <td>0</td>\n",
              "      <td>NaN</td>\n",
              "      <td>42</td>\n",
              "      <td>...</td>\n",
              "      <td>NaN</td>\n",
              "      <td>NaN</td>\n",
              "      <td>NaN</td>\n",
              "      <td>NaN</td>\n",
              "      <td>NaN</td>\n",
              "      <td>NaN</td>\n",
              "      <td>NaN</td>\n",
              "      <td>NaN</td>\n",
              "      <td>NaN</td>\n",
              "      <td>NaN</td>\n",
              "    </tr>\n",
              "    <tr>\n",
              "      <th>4</th>\n",
              "      <td>10001</td>\n",
              "      <td>1942-7-5</td>\n",
              "      <td>0</td>\n",
              "      <td>NaN</td>\n",
              "      <td>26.666667</td>\n",
              "      <td>21.666667</td>\n",
              "      <td>24.444444</td>\n",
              "      <td>0</td>\n",
              "      <td>NaN</td>\n",
              "      <td>42</td>\n",
              "      <td>...</td>\n",
              "      <td>NaN</td>\n",
              "      <td>NaN</td>\n",
              "      <td>NaN</td>\n",
              "      <td>NaN</td>\n",
              "      <td>NaN</td>\n",
              "      <td>NaN</td>\n",
              "      <td>NaN</td>\n",
              "      <td>NaN</td>\n",
              "      <td>NaN</td>\n",
              "      <td>NaN</td>\n",
              "    </tr>\n",
              "  </tbody>\n",
              "</table>\n",
              "<p>5 rows × 31 columns</p>\n",
              "</div>"
            ],
            "text/plain": [
              "     STA      Date Precip  WindGustSpd    MaxTemp    MinTemp   MeanTemp  \\\n",
              "0  10001  1942-7-1  1.016          NaN  25.555556  22.222222  23.888889   \n",
              "1  10001  1942-7-2      0          NaN  28.888889  21.666667  25.555556   \n",
              "2  10001  1942-7-3   2.54          NaN  26.111111  22.222222  24.444444   \n",
              "3  10001  1942-7-4   2.54          NaN  26.666667  22.222222  24.444444   \n",
              "4  10001  1942-7-5      0          NaN  26.666667  21.666667  24.444444   \n",
              "\n",
              "  Snowfall PoorWeather  YR ...   FB  FTI ITH  PGT  TSHDSBRSGF  SD3  RHX  RHN  \\\n",
              "0        0         NaN  42 ...  NaN  NaN NaN  NaN         NaN  NaN  NaN  NaN   \n",
              "1        0         NaN  42 ...  NaN  NaN NaN  NaN         NaN  NaN  NaN  NaN   \n",
              "2        0         NaN  42 ...  NaN  NaN NaN  NaN         NaN  NaN  NaN  NaN   \n",
              "3        0         NaN  42 ...  NaN  NaN NaN  NaN         NaN  NaN  NaN  NaN   \n",
              "4        0         NaN  42 ...  NaN  NaN NaN  NaN         NaN  NaN  NaN  NaN   \n",
              "\n",
              "  RVG  WTE  \n",
              "0 NaN  NaN  \n",
              "1 NaN  NaN  \n",
              "2 NaN  NaN  \n",
              "3 NaN  NaN  \n",
              "4 NaN  NaN  \n",
              "\n",
              "[5 rows x 31 columns]"
            ]
          },
          "metadata": {
            "tags": []
          },
          "execution_count": 33
        }
      ]
    },
    {
      "cell_type": "code",
      "metadata": {
        "id": "bBFaB2tCdt6f",
        "colab_type": "code",
        "colab": {},
        "outputId": "fe0b8eb7-62be-4254-add7-301e5ed986dd"
      },
      "source": [
        "# Xem kiểu dữ liệu để xử lý cho đúng\n",
        "dataset.info()"
      ],
      "execution_count": 0,
      "outputs": [
        {
          "output_type": "stream",
          "text": [
            "<class 'pandas.core.frame.DataFrame'>\n",
            "RangeIndex: 119040 entries, 0 to 119039\n",
            "Data columns (total 31 columns):\n",
            "STA            119040 non-null int64\n",
            "Date           119040 non-null object\n",
            "Precip         119040 non-null object\n",
            "WindGustSpd    532 non-null float64\n",
            "MaxTemp        119040 non-null float64\n",
            "MinTemp        119040 non-null float64\n",
            "MeanTemp       119040 non-null float64\n",
            "Snowfall       117877 non-null object\n",
            "PoorWeather    34237 non-null object\n",
            "YR             119040 non-null int64\n",
            "MO             119040 non-null int64\n",
            "DA             119040 non-null int64\n",
            "PRCP           117108 non-null object\n",
            "DR             533 non-null float64\n",
            "SPD            532 non-null float64\n",
            "MAX            118566 non-null float64\n",
            "MIN            118572 non-null float64\n",
            "MEA            118542 non-null float64\n",
            "SNF            117877 non-null object\n",
            "SND            5563 non-null float64\n",
            "FT             0 non-null float64\n",
            "FB             0 non-null float64\n",
            "FTI            0 non-null float64\n",
            "ITH            0 non-null float64\n",
            "PGT            525 non-null float64\n",
            "TSHDSBRSGF     34237 non-null object\n",
            "SD3            0 non-null float64\n",
            "RHX            0 non-null float64\n",
            "RHN            0 non-null float64\n",
            "RVG            0 non-null float64\n",
            "WTE            0 non-null float64\n",
            "dtypes: float64(20), int64(4), object(7)\n",
            "memory usage: 28.2+ MB\n"
          ],
          "name": "stdout"
        }
      ]
    },
    {
      "cell_type": "code",
      "metadata": {
        "id": "ZqEbsznkdt6j",
        "colab_type": "code",
        "colab": {},
        "outputId": "880a5236-9ea5-4326-d4bc-e1a9bc7546ed"
      },
      "source": [
        "# Để dựng model hồi quy tuyến tính thì 2 biến phải là biến độc lập và có mối quan hệ tuyến tính.\n",
        "dataset.plot(x='MinTemp', y='MaxTemp', style='o')  \n",
        "plt.title('MinTemp vs MaxTemp')  \n",
        "plt.xlabel('MinTemp')  \n",
        "plt.ylabel('MaxTemp')  \n",
        "plt.show()"
      ],
      "execution_count": 0,
      "outputs": [
        {
          "output_type": "display_data",
          "data": {
            "image/png": "[encoded data removed]",
            "text/plain": [
              "<Figure size 432x288 with 1 Axes>"
            ]
          },
          "metadata": {
            "tags": []
          }
        }
      ]
    },
    {
      "cell_type": "code",
      "metadata": {
        "id": "R86HYCzndt6o",
        "colab_type": "code",
        "colab": {},
        "outputId": "33a11ffe-76ce-484c-91d5-6af10e86df8a"
      },
      "source": [
        "# Xem phân phối của biến cần dự đoán\n",
        "plt.figure(figsize=(10,5))\n",
        "plt.tight_layout()\n",
        "sns.distplot(dataset['MaxTemp'])"
      ],
      "execution_count": 0,
      "outputs": [
        {
          "output_type": "stream",
          "text": [
            "C:\\Users\\a\\Anaconda3\\lib\\site-packages\\matplotlib\\axes\\_axes.py:6462: UserWarning: The 'normed' kwarg is deprecated, and has been replaced by the 'density' kwarg.\n",
            "  warnings.warn(\"The 'normed' kwarg is deprecated, and has been \"\n"
          ],
          "name": "stderr"
        },
        {
          "output_type": "execute_result",
          "data": {
            "text/plain": [
              "<matplotlib.axes._subplots.AxesSubplot at 0x19b4ea98b00>"
            ]
          },
          "metadata": {
            "tags": []
          },
          "execution_count": 36
        },
        {
          "output_type": "display_data",
          "data": {
            "image/png": "[encoded data removed]",
            "text/plain": [
              "<Figure size 720x360 with 1 Axes>"
            ]
          },
          "metadata": {
            "tags": []
          }
        }
      ]
    },
    {
      "cell_type": "code",
      "metadata": {
        "id": "dvmTjqvcdt6t",
        "colab_type": "code",
        "colab": {}
      },
      "source": [
        "X = dataset['MinTemp'].values.reshape(-1,1)\n",
        "y = dataset['MaxTemp'].values.reshape(-1,1)"
      ],
      "execution_count": 0,
      "outputs": []
    },
    {
      "cell_type": "code",
      "metadata": {
        "id": "2_xGuyxhdt6x",
        "colab_type": "code",
        "colab": {}
      },
      "source": [
        "#Chia tập để train, test\n",
        "X_train, X_test, y_train, y_test = train_test_split(X, y, test_size=0.2, random_state=0)"
      ],
      "execution_count": 0,
      "outputs": []
    },
    {
      "cell_type": "code",
      "metadata": {
        "id": "1C2NZcn7dt61",
        "colab_type": "code",
        "colab": {},
        "outputId": "0ae0f6d2-ba06-4517-eddf-4a86ea30690b"
      },
      "source": [
        "#Gọi model và fit model vào tập train\n",
        "regressor = LinearRegression()  \n",
        "regressor.fit(X_train, y_train) #training the algorithm"
      ],
      "execution_count": 0,
      "outputs": [
        {
          "output_type": "execute_result",
          "data": {
            "text/plain": [
              "LinearRegression(copy_X=True, fit_intercept=True, n_jobs=1, normalize=False)"
            ]
          },
          "metadata": {
            "tags": []
          },
          "execution_count": 39
        }
      ]
    },
    {
      "cell_type": "code",
      "metadata": {
        "id": "_clMf6CAdt64",
        "colab_type": "code",
        "colab": {},
        "outputId": "a39478ee-3831-448a-ff3b-c3071df93ab9"
      },
      "source": [
        "#Chặn trên của mức biến động\n",
        "print(regressor.intercept_)\n",
        "#chặn dưới của mức độ biến động\n",
        "print(regressor.coef_)"
      ],
      "execution_count": 0,
      "outputs": [
        {
          "output_type": "stream",
          "text": [
            "[10.66185201]\n",
            "[[0.92033997]]\n"
          ],
          "name": "stdout"
        }
      ]
    },
    {
      "cell_type": "code",
      "metadata": {
        "id": "XOiDLsb5dt66",
        "colab_type": "code",
        "colab": {}
      },
      "source": [
        "# Đưa tập test vào model\n",
        "y_pred = regressor.predict(X_test)"
      ],
      "execution_count": 0,
      "outputs": []
    },
    {
      "cell_type": "code",
      "metadata": {
        "id": "z9BBs5UIdt68",
        "colab_type": "code",
        "colab": {},
        "outputId": "f6e9f5e2-3ee7-4eed-9a5a-2cf1d7b52b3e"
      },
      "source": [
        "# Nhận kết quả đưa về dataframe rồi visualize bên dưới\n",
        "df = pd.DataFrame({'Actual': y_test.flatten(), 'Predicted': y_pred.flatten()})\n",
        "df.head()"
      ],
      "execution_count": 0,
      "outputs": [
        {
          "output_type": "execute_result",
          "data": {
            "text/html": [
              "<div>\n",
              "<style scoped>\n",
              "    .dataframe tbody tr th:only-of-type {\n",
              "        vertical-align: middle;\n",
              "    }\n",
              "\n",
              "    .dataframe tbody tr th {\n",
              "        vertical-align: top;\n",
              "    }\n",
              "\n",
              "    .dataframe thead th {\n",
              "        text-align: right;\n",
              "    }\n",
              "</style>\n",
              "<table border=\"1\" class=\"dataframe\">\n",
              "  <thead>\n",
              "    <tr style=\"text-align: right;\">\n",
              "      <th></th>\n",
              "      <th>Actual</th>\n",
              "      <th>Predicted</th>\n",
              "    </tr>\n",
              "  </thead>\n",
              "  <tbody>\n",
              "    <tr>\n",
              "      <th>0</th>\n",
              "      <td>28.888889</td>\n",
              "      <td>33.670351</td>\n",
              "    </tr>\n",
              "    <tr>\n",
              "      <th>1</th>\n",
              "      <td>31.111111</td>\n",
              "      <td>30.091251</td>\n",
              "    </tr>\n",
              "    <tr>\n",
              "      <th>2</th>\n",
              "      <td>27.222222</td>\n",
              "      <td>26.512151</td>\n",
              "    </tr>\n",
              "    <tr>\n",
              "      <th>3</th>\n",
              "      <td>28.888889</td>\n",
              "      <td>31.113851</td>\n",
              "    </tr>\n",
              "    <tr>\n",
              "      <th>4</th>\n",
              "      <td>23.333333</td>\n",
              "      <td>15.774852</td>\n",
              "    </tr>\n",
              "  </tbody>\n",
              "</table>\n",
              "</div>"
            ],
            "text/plain": [
              "      Actual  Predicted\n",
              "0  28.888889  33.670351\n",
              "1  31.111111  30.091251\n",
              "2  27.222222  26.512151\n",
              "3  28.888889  31.113851\n",
              "4  23.333333  15.774852"
            ]
          },
          "metadata": {
            "tags": []
          },
          "execution_count": 42
        }
      ]
    },
    {
      "cell_type": "code",
      "metadata": {
        "id": "Lr7_MbBidt6_",
        "colab_type": "code",
        "colab": {},
        "outputId": "729eed36-d373-41fa-fdd7-e619995c0376"
      },
      "source": [
        "df1 = df.head(25)\n",
        "df1.plot(kind='bar',figsize=(16,10))\n",
        "plt.grid(which='major', linestyle='-', linewidth='0.5', color='green')\n",
        "plt.show()"
      ],
      "execution_count": 0,
      "outputs": [
        {
          "output_type": "display_data",
          "data": {
            "image/png": "[encoded data removed]",
            "text/plain": [
              "<Figure size 1152x720 with 1 Axes>"
            ]
          },
          "metadata": {
            "tags": []
          }
        }
      ]
    },
    {
      "cell_type": "code",
      "metadata": {
        "id": "oGQY6WQFdt7D",
        "colab_type": "code",
        "colab": {},
        "outputId": "08f537db-25ed-46eb-aa29-04742df8f1bb"
      },
      "source": [
        "df1 = df.head(300)\n",
        "df1[['Actual','Predicted']].plot(figsize=(15, 5),style=['-','.'])"
      ],
      "execution_count": 0,
      "outputs": [
        {
          "output_type": "execute_result",
          "data": {
            "text/plain": [
              "<matplotlib.axes._subplots.AxesSubplot at 0x19b4e4fae10>"
            ]
          },
          "metadata": {
            "tags": []
          },
          "execution_count": 44
        },
        {
          "output_type": "display_data",
          "data": {
            "image/png": "[encoded data removed]",
            "text/plain": [
              "<Figure size 1080x360 with 1 Axes>"
            ]
          },
          "metadata": {
            "tags": []
          }
        }
      ]
    },
    {
      "cell_type": "code",
      "metadata": {
        "id": "GCcesrnJdt7J",
        "colab_type": "code",
        "colab": {},
        "outputId": "7403d944-30dc-4f6d-8f2a-485fd5f44088"
      },
      "source": [
        "# Tính toán sai số của mô hình\n",
        "print('Mean Absolute Error:', metrics.mean_absolute_error(y_test, y_pred))  \n",
        "print('Mean Squared Error:', metrics.mean_squared_error(y_test, y_pred))  \n",
        "print('Root Mean Squared Error:', np.sqrt(metrics.mean_squared_error(y_test, y_pred)))"
      ],
      "execution_count": 0,
      "outputs": [
        {
          "output_type": "stream",
          "text": [
            "Mean Absolute Error: 3.19932917837853\n",
            "Mean Squared Error: 17.631568097568447\n",
            "Root Mean Squared Error: 4.198996082109204\n"
          ],
          "name": "stdout"
        }
      ]
    },
    {
      "cell_type": "code",
      "metadata": {
        "id": "v3J43rDmdt7N",
        "colab_type": "code",
        "colab": {}
      },
      "source": [
        "import numpy as np\n",
        "def mean_absolute_percentage_error(y_true, y_pred): \n",
        "    y_true, y_pred = np.array(y_true), np.array(y_pred)\n",
        "    return np.mean(np.abs((y_true - y_pred) / y_true)) * 100"
      ],
      "execution_count": 0,
      "outputs": []
    },
    {
      "cell_type": "code",
      "metadata": {
        "id": "oNBoazUvdt7P",
        "colab_type": "code",
        "colab": {},
        "outputId": "baab7ffb-be76-4efa-9115-6e08a69d1e28"
      },
      "source": [
        "mean_absolute_percentage_error(y_test, y_pred)"
      ],
      "execution_count": 0,
      "outputs": [
        {
          "output_type": "stream",
          "text": [
            "C:\\Users\\a\\Anaconda3\\lib\\site-packages\\ipykernel_launcher.py:4: RuntimeWarning: divide by zero encountered in true_divide\n",
            "  after removing the cwd from sys.path.\n"
          ],
          "name": "stderr"
        },
        {
          "output_type": "execute_result",
          "data": {
            "text/plain": [
              "inf"
            ]
          },
          "metadata": {
            "tags": []
          },
          "execution_count": 47
        }
      ]
    },
    {
      "cell_type": "markdown",
      "metadata": {
        "id": "hw1_g_oYdt7S",
        "colab_type": "text"
      },
      "source": [
        "***5.Tensorn Flow***\n",
        "Tensorflow là một thư viện phần mềm mã nguồn mở hỗ trợ mạnh mẽ các phép toán học để tính toán trong machine learning và deep learning.Do các nhà khoa học của viện nghiên cứu Google Brain phát triển.\n",
        "https://www.tensorflow.org/tutorials"
      ]
    },
    {
      "cell_type": "code",
      "metadata": {
        "id": "rD06QbeIdt7T",
        "colab_type": "code",
        "colab": {}
      },
      "source": [
        "debug: eager execution"
      ],
      "execution_count": 0,
      "outputs": []
    },
    {
      "cell_type": "code",
      "metadata": {
        "id": "dRnisJAcdt7V",
        "colab_type": "code",
        "colab": {}
      },
      "source": [
        "# import sys\n",
        "# !{sys.executable} -m pip install tensorflow"
      ],
      "execution_count": 0,
      "outputs": []
    },
    {
      "cell_type": "markdown",
      "metadata": {
        "id": "VNQsM_fVdt7W",
        "colab_type": "text"
      },
      "source": [
        "***6.Pytouch***"
      ]
    },
    {
      "cell_type": "markdown",
      "metadata": {
        "id": "bMeCWIBxdt7W",
        "colab_type": "text"
      },
      "source": [
        "***7.Keras***"
      ]
    }
  ]
}